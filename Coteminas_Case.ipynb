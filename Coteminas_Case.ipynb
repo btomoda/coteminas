{
  "nbformat": 4,
  "nbformat_minor": 0,
  "metadata": {
    "colab": {
      "name": "Coteminas-Case.ipynb",
      "provenance": [],
      "collapsed_sections": [],
      "authorship_tag": "ABX9TyPsiZ1QP5p+tstjIoKIOlq1",
      "include_colab_link": true
    },
    "kernelspec": {
      "name": "python3",
      "display_name": "Python 3"
    },
    "language_info": {
      "name": "python"
    }
  },
  "cells": [
    {
      "cell_type": "markdown",
      "metadata": {
        "id": "view-in-github",
        "colab_type": "text"
      },
      "source": [
        "<a href=\"https://colab.research.google.com/github/btomoda/coteminas/blob/main/Coteminas_Case.ipynb\" target=\"_parent\"><img src=\"https://colab.research.google.com/assets/colab-badge.svg\" alt=\"Open In Colab\"/></a>"
      ]
    },
    {
      "cell_type": "markdown",
      "metadata": {
        "id": "2boHsV8OJgFU"
      },
      "source": [
        "# Descrição Case Data Scientist - Demand Forecast\n"
      ]
    },
    {
      "cell_type": "markdown",
      "metadata": {
        "id": "uDHC3vyOck0C"
      },
      "source": [
        "## Import de bibliotecas + análise inicial"
      ]
    },
    {
      "cell_type": "code",
      "metadata": {
        "id": "9Of-7gGNHbHa"
      },
      "source": [
        "import pandas as pd\n",
        "import numpy as np\n",
        "import matplotlib.pyplot as plt\n",
        "import seaborn as sns"
      ],
      "execution_count": 1,
      "outputs": []
    },
    {
      "cell_type": "code",
      "metadata": {
        "id": "5fXJOE0uK32x"
      },
      "source": [
        "import warnings\n",
        "warnings.filterwarnings(\"ignore\")"
      ],
      "execution_count": 2,
      "outputs": []
    },
    {
      "cell_type": "code",
      "metadata": {
        "colab": {
          "base_uri": "https://localhost:8080/"
        },
        "id": "xeJ9fUAKF_6Y",
        "outputId": "abff2228-f563-45c3-ee6f-58f7d90371f6"
      },
      "source": [
        "!wget 'https://ammo-datascience-sharing.s3-us-west-2.amazonaws.com/raw_updated_data.csv' -O raw_data.csv"
      ],
      "execution_count": 3,
      "outputs": [
        {
          "output_type": "stream",
          "text": [
            "--2021-04-08 16:38:13--  https://ammo-datascience-sharing.s3-us-west-2.amazonaws.com/raw_updated_data.csv\n",
            "Resolving ammo-datascience-sharing.s3-us-west-2.amazonaws.com (ammo-datascience-sharing.s3-us-west-2.amazonaws.com)... 52.218.234.161\n",
            "Connecting to ammo-datascience-sharing.s3-us-west-2.amazonaws.com (ammo-datascience-sharing.s3-us-west-2.amazonaws.com)|52.218.234.161|:443... connected.\n",
            "HTTP request sent, awaiting response... 200 OK\n",
            "Length: 216977458 (207M) [text/csv]\n",
            "Saving to: ‘raw_data.csv’\n",
            "\n",
            "raw_data.csv        100%[===================>] 206.93M  21.6MB/s    in 11s     \n",
            "\n",
            "2021-04-08 16:38:24 (18.9 MB/s) - ‘raw_data.csv’ saved [216977458/216977458]\n",
            "\n"
          ],
          "name": "stdout"
        }
      ]
    },
    {
      "cell_type": "code",
      "metadata": {
        "id": "pNGrTaC0HX6l"
      },
      "source": [
        "## Funções auxiliares\n",
        "def mean_absolute_percentage_error(y_true, y_pred):\n",
        "   y_true, y_pred = np.array(y_true), np.array(y_pred)\n",
        "   mape_list = np.abs((y_true - y_pred) / y_true)\n",
        "   mape = np.mean(mape_list) * 100\n",
        "   return mape\n",
        "  \n",
        "def weighted_mean_absolute_percentage_error(y_true, y_pred):\n",
        "   y_true, y_pred = np.array(y_true), np.array(y_pred)\n",
        "   mape_list = np.abs((y_true - y_pred) / y_true)\n",
        "   weights = np.abs(y_true/y_true.sum())\n",
        "   weighted_mape = (mape_list * weights).sum() * 100\n",
        "   return weighted_mape"
      ],
      "execution_count": 4,
      "outputs": []
    },
    {
      "cell_type": "code",
      "metadata": {
        "colab": {
          "base_uri": "https://localhost:8080/",
          "height": 291
        },
        "id": "b1Lgw1KaHGf3",
        "outputId": "78621a54-cd18-4f7a-f9b0-b0ec1874f002"
      },
      "source": [
        "df_challenge = pd.read_csv('raw_data.csv', encoding='utf-8-sig', sep=\";\", decimal = \",\")\n",
        "df_challenge.head()"
      ],
      "execution_count": 5,
      "outputs": [
        {
          "output_type": "execute_result",
          "data": {
            "text/html": [
              "<div>\n",
              "<style scoped>\n",
              "    .dataframe tbody tr th:only-of-type {\n",
              "        vertical-align: middle;\n",
              "    }\n",
              "\n",
              "    .dataframe tbody tr th {\n",
              "        vertical-align: top;\n",
              "    }\n",
              "\n",
              "    .dataframe thead th {\n",
              "        text-align: right;\n",
              "    }\n",
              "</style>\n",
              "<table border=\"1\" class=\"dataframe\">\n",
              "  <thead>\n",
              "    <tr style=\"text-align: right;\">\n",
              "      <th></th>\n",
              "      <th>sku</th>\n",
              "      <th>creationDate</th>\n",
              "      <th>size</th>\n",
              "      <th>color</th>\n",
              "      <th>skuCollection</th>\n",
              "      <th>skuUnitOfMeasurement</th>\n",
              "      <th>productSegment</th>\n",
              "      <th>productCategory</th>\n",
              "      <th>productLine</th>\n",
              "      <th>productCollection</th>\n",
              "      <th>productProfile</th>\n",
              "      <th>productTouchId</th>\n",
              "      <th>productSeasonId</th>\n",
              "      <th>productOccasionId</th>\n",
              "      <th>productCareId</th>\n",
              "      <th>productBrandId</th>\n",
              "      <th>productMacroCategory</th>\n",
              "      <th>skuLength</th>\n",
              "      <th>skuWidth</th>\n",
              "      <th>skuHeight</th>\n",
              "      <th>skuIsBundle</th>\n",
              "      <th>skuProducedInternationally</th>\n",
              "      <th>minPurchaseValueFrom</th>\n",
              "      <th>maxPurchaseValueFrom</th>\n",
              "      <th>avgPurchaseValueFrom</th>\n",
              "      <th>stddevPurchaseValueFrom</th>\n",
              "      <th>minPurchaseValueTo</th>\n",
              "      <th>maxPurchaseValueTo</th>\n",
              "      <th>avgPurchaseValueTo</th>\n",
              "      <th>stddevPurchaseValueTo</th>\n",
              "      <th>amount</th>\n",
              "    </tr>\n",
              "  </thead>\n",
              "  <tbody>\n",
              "    <tr>\n",
              "      <th>0</th>\n",
              "      <td>b'-cu@\\x12\\x8ef\\x9a\\xd2&amp;\\x10\\x8f\\xbd\\xdb\\xa8N\\...</td>\n",
              "      <td>2019-05-28</td>\n",
              "      <td>b'\\t)?\\x15% \\x13\\x08\\xb0\\xae|\\xdb\"|*\\xad_\\xb9\\...</td>\n",
              "      <td>b'8\\x9f\\x96\\xce\\xe4\\x98\\xe9\\xd5N\\x9cU&lt;\\x89\\xe6...</td>\n",
              "      <td>b'\\xb3\\xd9B\\xf5\\x07\\xb4\\x197\\xbaK!\\x956\\r\\xb1m...</td>\n",
              "      <td>b'\\xb8G\\xf4\\xac-\\xf7\\xc6`\\xf0\\x0f\\xc8\\xf9\\xb4\\...</td>\n",
              "      <td>b'\\x06\\xa4.A5\\xbar\\xb9\\x06\\xa7\\x0e\\xa493\\xd7t\\...</td>\n",
              "      <td>b'\\x9ef\\xe2\\xbc\\x9b\\xcb\\xd9\\xaa$\\x83\\xcaZ\\xa6\\...</td>\n",
              "      <td>b'\\x7f\\x9cV%\\xb7x\\x82{\\x13\\x7fI0\\x12\\xfe\\x08\\x...</td>\n",
              "      <td>b'\\xa9\\x87\\xd9\\x18\\xf9\\x80\\xb8\\xa3d\\xa6=\\xf1\\x...</td>\n",
              "      <td>b'\\xb3U\\xa5T\\xaf\\xab\\x1ct;\\x04\\t\\r\\xa3\\xa9U\\x8...</td>\n",
              "      <td>b'TE\\xbc\\n\\xd7\\xc4Y\\xb8\\xdemf\\x14j\\x9d\\xae\\xbd...</td>\n",
              "      <td>b'\\xc4\\xb2D\\xcaz\\xa8[\\x97hI\\x1ej\\xe1\\xf4\\xf3\\x...</td>\n",
              "      <td>b'x\\xcca\\xd1R\\x97A\\x0fsm\\xea\\x9c\\xc6&gt;vSQ\\x18\\x...</td>\n",
              "      <td>NaN</td>\n",
              "      <td>b'\\x1e\\xf5\\xca\\x05\\\\`\\x8cM\\xe9\\x1d\\x83\\x8a\\x11...</td>\n",
              "      <td>b'\\x1e\\xf9\\x92\\xed\\x1c\\xbe\\x93J\\xe3\\xd6y}\\x95\\...</td>\n",
              "      <td>63.0</td>\n",
              "      <td>8.2</td>\n",
              "      <td>53.0</td>\n",
              "      <td>False</td>\n",
              "      <td>NaN</td>\n",
              "      <td>NaN</td>\n",
              "      <td>NaN</td>\n",
              "      <td>NaN</td>\n",
              "      <td>NaN</td>\n",
              "      <td>NaN</td>\n",
              "      <td>NaN</td>\n",
              "      <td>NaN</td>\n",
              "      <td>NaN</td>\n",
              "      <td>1</td>\n",
              "    </tr>\n",
              "    <tr>\n",
              "      <th>1</th>\n",
              "      <td>b'Ruy\\xd9\\x06j\\x13\\xe8\\x9d:7\\xbao\\x05\\xc2\\x9a\\...</td>\n",
              "      <td>2019-05-29</td>\n",
              "      <td>b'D[\\xcc\\xe0OC/9\\x1c\\xc7V\\x19\\x802Y\\xa6c\\x16\\x...</td>\n",
              "      <td>b'\\xe7c\\x14\\x1b\\xdd\\xa7\\xa6q\\x17\\x13B\\x01\\xdbe...</td>\n",
              "      <td>b'\\xb3\\xd9B\\xf5\\x07\\xb4\\x197\\xbaK!\\x956\\r\\xb1m...</td>\n",
              "      <td>b'\\xb8G\\xf4\\xac-\\xf7\\xc6`\\xf0\\x0f\\xc8\\xf9\\xb4\\...</td>\n",
              "      <td>b'\\x06\\xa4.A5\\xbar\\xb9\\x06\\xa7\\x0e\\xa493\\xd7t\\...</td>\n",
              "      <td>b'\\xe8\\x1d\\x1f\\x85\\xa0\\x91^m&amp;\\xfc\\x04f/\\xe7\\x0...</td>\n",
              "      <td>NaN</td>\n",
              "      <td>b'\\xd6\\x9f\\xa2*\\xc9\\x11\\xba\\xf7+\\xaa/\\x10&lt;\\\\m\\...</td>\n",
              "      <td>b\"\\xc6\\x07~\\xf3\\xe2\\xcfl\\xd7\\x85\\xb9\\xfb\\x01\\x...</td>\n",
              "      <td>NaN</td>\n",
              "      <td>NaN</td>\n",
              "      <td>NaN</td>\n",
              "      <td>NaN</td>\n",
              "      <td>b'+\\x82\\xfe@\\x0b\\x86:\\x06\\x9ehv\\xa9?\\x1f\\xc8\\x...</td>\n",
              "      <td>b'\\xc27B\\x9b\\xc6\\x08\\xcba\\xa6.\\x9b\\x1emw\\xb8\\x...</td>\n",
              "      <td>42.0</td>\n",
              "      <td>15.0</td>\n",
              "      <td>47.0</td>\n",
              "      <td>False</td>\n",
              "      <td>NaN</td>\n",
              "      <td>58380.0</td>\n",
              "      <td>58380.0</td>\n",
              "      <td>58380.0</td>\n",
              "      <td>NaN</td>\n",
              "      <td>58380.0</td>\n",
              "      <td>58380.0</td>\n",
              "      <td>58380.0</td>\n",
              "      <td>NaN</td>\n",
              "      <td>1</td>\n",
              "    </tr>\n",
              "    <tr>\n",
              "      <th>2</th>\n",
              "      <td>b'\\x12G\\x0e\\xabC\\x9e\\xe7\\x1c\\xe0\\xed\\xe7w\\xc8\\...</td>\n",
              "      <td>2018-02-06</td>\n",
              "      <td>b'%\\xd9\\x89\\x93\\x9a\\x85w\\x91!\\xdf\\xfdlS\\xde\\x1...</td>\n",
              "      <td>b'\\xe7c\\x14\\x1b\\xdd\\xa7\\xa6q\\x17\\x13B\\x01\\xdbe...</td>\n",
              "      <td>b'\\xa3\\xd6_8\\x08@d\\xb0\\xe2\\x03\\xa7\\x8b\\x89o\\xd...</td>\n",
              "      <td>b'\\xb8G\\xf4\\xac-\\xf7\\xc6`\\xf0\\x0f\\xc8\\xf9\\xb4\\...</td>\n",
              "      <td>b'\\xe4\\x1b\\xc1\\x04_\\xbf\\x81`\\x02\\xe79\\xe7 |\\\\\\...</td>\n",
              "      <td>b'n\\x95\\x84Q\\x14\\xd7i\\xe6r8*\\xfd*C\\x93\\x92+\\x8...</td>\n",
              "      <td>b'\\xcf#%\\xa9\\xf8\\x07\\x8a\\x1a\\x97\\x87\\xd7\\x84\\x...</td>\n",
              "      <td>b'\\xa9\\x87\\xd9\\x18\\xf9\\x80\\xb8\\xa3d\\xa6=\\xf1\\x...</td>\n",
              "      <td>b'\\xd52\\x86=\\x93\\xd8yJ\\xc6rbr\\xb4X\\xa2!\\xd2}/\\...</td>\n",
              "      <td>b'9)\\x18\\x88/|\\x0e\\x9ft\\xafOyJ\\xbch\\xad \\xdfd[...</td>\n",
              "      <td>NaN</td>\n",
              "      <td>b'\\xeb\\xe8l\\xdcu\\xf8\\xaa\\xd2\\xc8\\t9\\xce\\xf4\\xa...</td>\n",
              "      <td>NaN</td>\n",
              "      <td>b'S-\\x81\\x0f2\\xd8\\xe1]\\x03\\n\\xad\\xdaN\\x1a\\xc4\\...</td>\n",
              "      <td>b'Tc\\xc4\\xf8\\xc6\\xbb\\xde\\xa0\\xa8\\xa2\\x05v\"\\xb2...</td>\n",
              "      <td>40.0</td>\n",
              "      <td>7.5</td>\n",
              "      <td>27.0</td>\n",
              "      <td>False</td>\n",
              "      <td>False</td>\n",
              "      <td>NaN</td>\n",
              "      <td>NaN</td>\n",
              "      <td>NaN</td>\n",
              "      <td>NaN</td>\n",
              "      <td>NaN</td>\n",
              "      <td>NaN</td>\n",
              "      <td>NaN</td>\n",
              "      <td>NaN</td>\n",
              "      <td>1</td>\n",
              "    </tr>\n",
              "    <tr>\n",
              "      <th>3</th>\n",
              "      <td>b'\\xbb\\x9c`d+\\xb3\\x93C\\xbc!\\x05\\x95\\xfep\\xe0\\x...</td>\n",
              "      <td>2018-04-22</td>\n",
              "      <td>b'\\xbc\\x85q\\xd5\\x16\\xac\\xb9\\x82\\x16\\xc9O\\x1c\\x...</td>\n",
              "      <td>b'Jm\\xf4\\xc6\\xd9\\xaa\\xcdj\\xcc\\t7\\xa8f\\x007\\x82...</td>\n",
              "      <td>b'|j\\xed\\x042Z\\x86\\xd4\\x9d\\xfd\\x83\\x9c\\x87\\xe4...</td>\n",
              "      <td>b'\\xb8G\\xf4\\xac-\\xf7\\xc6`\\xf0\\x0f\\xc8\\xf9\\xb4\\...</td>\n",
              "      <td>b'\\x06\\xa4.A5\\xbar\\xb9\\x06\\xa7\\x0e\\xa493\\xd7t\\...</td>\n",
              "      <td>b'F[(\\xe6\\x97T$\\xf6Qk\\x9c\\xf1\\xd2\\xf6\\x9d\\xf2&lt;...</td>\n",
              "      <td>b'_\\xf2\\xa8l\\x80\\xba=V\\x93\\x95C\\xe8g\\xa1n\\xa6X...</td>\n",
              "      <td>b'\\xe8zw\\xe2\\xb6\\xec\\xb7\\xb3o?\\x86\\x9ff\\\\\\xbb\\...</td>\n",
              "      <td>b'\\xb3U\\xa5T\\xaf\\xab\\x1ct;\\x04\\t\\r\\xa3\\xa9U\\x8...</td>\n",
              "      <td>b'B\\xd4\\xdf\\x06*\\xe8o\\xc7\\xdd\\xec\\xfbtVX\\xf40\\...</td>\n",
              "      <td>NaN</td>\n",
              "      <td>b'~\\xac\\xbfl-\\x12\\x9c\\xcd\"\\xe2v\\xb1\\x15\\xdc\\xe...</td>\n",
              "      <td>NaN</td>\n",
              "      <td>b'\\x1c9\\xe3co\\x83I\\xc1@\\xa9\\xed\\x89\\xe66\\x00qR...</td>\n",
              "      <td>b'\\xc27B\\x9b\\xc6\\x08\\xcba\\xa6.\\x9b\\x1emw\\xb8\\x...</td>\n",
              "      <td>23.0</td>\n",
              "      <td>8.0</td>\n",
              "      <td>28.0</td>\n",
              "      <td>False</td>\n",
              "      <td>NaN</td>\n",
              "      <td>335580.0</td>\n",
              "      <td>335580.0</td>\n",
              "      <td>335580.0</td>\n",
              "      <td>0.0</td>\n",
              "      <td>251580.0</td>\n",
              "      <td>251580.0</td>\n",
              "      <td>251580.0</td>\n",
              "      <td>0.0</td>\n",
              "      <td>10</td>\n",
              "    </tr>\n",
              "    <tr>\n",
              "      <th>4</th>\n",
              "      <td>b'\\xbb\\x9c`d+\\xb3\\x93C\\xbc!\\x05\\x95\\xfep\\xe0\\x...</td>\n",
              "      <td>2018-04-07</td>\n",
              "      <td>b'\\xbc\\x85q\\xd5\\x16\\xac\\xb9\\x82\\x16\\xc9O\\x1c\\x...</td>\n",
              "      <td>b'Jm\\xf4\\xc6\\xd9\\xaa\\xcdj\\xcc\\t7\\xa8f\\x007\\x82...</td>\n",
              "      <td>b'|j\\xed\\x042Z\\x86\\xd4\\x9d\\xfd\\x83\\x9c\\x87\\xe4...</td>\n",
              "      <td>b'\\xb8G\\xf4\\xac-\\xf7\\xc6`\\xf0\\x0f\\xc8\\xf9\\xb4\\...</td>\n",
              "      <td>b'\\x06\\xa4.A5\\xbar\\xb9\\x06\\xa7\\x0e\\xa493\\xd7t\\...</td>\n",
              "      <td>b'F[(\\xe6\\x97T$\\xf6Qk\\x9c\\xf1\\xd2\\xf6\\x9d\\xf2&lt;...</td>\n",
              "      <td>b'_\\xf2\\xa8l\\x80\\xba=V\\x93\\x95C\\xe8g\\xa1n\\xa6X...</td>\n",
              "      <td>b'\\xe8zw\\xe2\\xb6\\xec\\xb7\\xb3o?\\x86\\x9ff\\\\\\xbb\\...</td>\n",
              "      <td>b'\\xb3U\\xa5T\\xaf\\xab\\x1ct;\\x04\\t\\r\\xa3\\xa9U\\x8...</td>\n",
              "      <td>b'B\\xd4\\xdf\\x06*\\xe8o\\xc7\\xdd\\xec\\xfbtVX\\xf40\\...</td>\n",
              "      <td>NaN</td>\n",
              "      <td>b'~\\xac\\xbfl-\\x12\\x9c\\xcd\"\\xe2v\\xb1\\x15\\xdc\\xe...</td>\n",
              "      <td>NaN</td>\n",
              "      <td>b'\\x1c9\\xe3co\\x83I\\xc1@\\xa9\\xed\\x89\\xe66\\x00qR...</td>\n",
              "      <td>b'\\xc27B\\x9b\\xc6\\x08\\xcba\\xa6.\\x9b\\x1emw\\xb8\\x...</td>\n",
              "      <td>23.0</td>\n",
              "      <td>8.0</td>\n",
              "      <td>28.0</td>\n",
              "      <td>False</td>\n",
              "      <td>NaN</td>\n",
              "      <td>335580.0</td>\n",
              "      <td>335580.0</td>\n",
              "      <td>335580.0</td>\n",
              "      <td>0.0</td>\n",
              "      <td>251580.0</td>\n",
              "      <td>251580.0</td>\n",
              "      <td>251580.0</td>\n",
              "      <td>0.0</td>\n",
              "      <td>11</td>\n",
              "    </tr>\n",
              "  </tbody>\n",
              "</table>\n",
              "</div>"
            ],
            "text/plain": [
              "                                                 sku  ... amount\n",
              "0  b'-cu@\\x12\\x8ef\\x9a\\xd2&\\x10\\x8f\\xbd\\xdb\\xa8N\\...  ...      1\n",
              "1  b'Ruy\\xd9\\x06j\\x13\\xe8\\x9d:7\\xbao\\x05\\xc2\\x9a\\...  ...      1\n",
              "2  b'\\x12G\\x0e\\xabC\\x9e\\xe7\\x1c\\xe0\\xed\\xe7w\\xc8\\...  ...      1\n",
              "3  b'\\xbb\\x9c`d+\\xb3\\x93C\\xbc!\\x05\\x95\\xfep\\xe0\\x...  ...     10\n",
              "4  b'\\xbb\\x9c`d+\\xb3\\x93C\\xbc!\\x05\\x95\\xfep\\xe0\\x...  ...     11\n",
              "\n",
              "[5 rows x 31 columns]"
            ]
          },
          "metadata": {
            "tags": []
          },
          "execution_count": 5
        }
      ]
    },
    {
      "cell_type": "code",
      "metadata": {
        "id": "nFKVMOkuHzJn",
        "colab": {
          "base_uri": "https://localhost:8080/"
        },
        "outputId": "b3be09a3-d97e-47dc-de73-0346f46f945a"
      },
      "source": [
        "df_challenge.columns"
      ],
      "execution_count": 6,
      "outputs": [
        {
          "output_type": "execute_result",
          "data": {
            "text/plain": [
              "Index(['sku', 'creationDate', 'size', 'color', 'skuCollection',\n",
              "       'skuUnitOfMeasurement', 'productSegment', 'productCategory',\n",
              "       'productLine', 'productCollection', 'productProfile', 'productTouchId',\n",
              "       'productSeasonId', 'productOccasionId', 'productCareId',\n",
              "       'productBrandId', 'productMacroCategory', 'skuLength', 'skuWidth',\n",
              "       'skuHeight', 'skuIsBundle', 'skuProducedInternationally',\n",
              "       'minPurchaseValueFrom', 'maxPurchaseValueFrom', 'avgPurchaseValueFrom',\n",
              "       'stddevPurchaseValueFrom', 'minPurchaseValueTo', 'maxPurchaseValueTo',\n",
              "       'avgPurchaseValueTo', 'stddevPurchaseValueTo', 'amount'],\n",
              "      dtype='object')"
            ]
          },
          "metadata": {
            "tags": []
          },
          "execution_count": 6
        }
      ]
    },
    {
      "cell_type": "code",
      "metadata": {
        "id": "1rkRiNnmTzgf"
      },
      "source": [
        "def Funcao_descritiva(Nome_tabela):\n",
        "\n",
        "    # Colunas e tipo de coluna\n",
        "    tabela_aux_tipo = pd.DataFrame(Nome_tabela.dtypes).reset_index()\n",
        "    tabela_aux_tipo.rename({\"index\":\"Colunas\",0:\"Tipo\"}, axis=1, inplace=True)\n",
        "    # Contagem de linhas \n",
        "    tabela_aux_tipo[\"Num_linhas\"] = Nome_tabela.shape[0]\n",
        "\n",
        "    # Quantidade de nulls\n",
        "    tabela_aux_null = pd.DataFrame((Nome_tabela).isnull().sum()).reset_index()\n",
        "    tabela_aux_null.rename({\"index\":\"Colunas\",0:\"Qtd_Nulls\"}, axis=1, inplace=True)\n",
        "\n",
        "    # Quantidade da cardinalidade\n",
        "    tabela_aux_unique = pd.DataFrame((Nome_tabela).nunique()).reset_index()\n",
        "    tabela_aux_unique.rename({\"index\":\"Colunas\",0:\"Qtd_Valores_unicos\"}, axis=1, inplace=True)\n",
        "\n",
        "    # Juntar numa base unica \n",
        "    tabela_aux_join = tabela_aux_tipo.merge(tabela_aux_null, how = \"left\", on = \"Colunas\")\n",
        "    tabela_aux_join = tabela_aux_join.merge(tabela_aux_unique, how = \"left\", on = \"Colunas\")\n",
        "\n",
        "    return tabela_aux_join"
      ],
      "execution_count": 7,
      "outputs": []
    },
    {
      "cell_type": "code",
      "metadata": {
        "colab": {
          "base_uri": "https://localhost:8080/",
          "height": 930
        },
        "id": "JGqzY4PpZGiD",
        "outputId": "69c792d1-079a-41f5-8ffd-0faaf9600661"
      },
      "source": [
        "Funcao_descritiva(df_challenge)"
      ],
      "execution_count": 8,
      "outputs": [
        {
          "output_type": "execute_result",
          "data": {
            "text/html": [
              "<div>\n",
              "<style scoped>\n",
              "    .dataframe tbody tr th:only-of-type {\n",
              "        vertical-align: middle;\n",
              "    }\n",
              "\n",
              "    .dataframe tbody tr th {\n",
              "        vertical-align: top;\n",
              "    }\n",
              "\n",
              "    .dataframe thead th {\n",
              "        text-align: right;\n",
              "    }\n",
              "</style>\n",
              "<table border=\"1\" class=\"dataframe\">\n",
              "  <thead>\n",
              "    <tr style=\"text-align: right;\">\n",
              "      <th></th>\n",
              "      <th>Colunas</th>\n",
              "      <th>Tipo</th>\n",
              "      <th>Num_linhas</th>\n",
              "      <th>Qtd_Nulls</th>\n",
              "      <th>Qtd_Valores_unicos</th>\n",
              "    </tr>\n",
              "  </thead>\n",
              "  <tbody>\n",
              "    <tr>\n",
              "      <th>0</th>\n",
              "      <td>sku</td>\n",
              "      <td>object</td>\n",
              "      <td>81993</td>\n",
              "      <td>0</td>\n",
              "      <td>432</td>\n",
              "    </tr>\n",
              "    <tr>\n",
              "      <th>1</th>\n",
              "      <td>creationDate</td>\n",
              "      <td>object</td>\n",
              "      <td>81993</td>\n",
              "      <td>0</td>\n",
              "      <td>2426</td>\n",
              "    </tr>\n",
              "    <tr>\n",
              "      <th>2</th>\n",
              "      <td>size</td>\n",
              "      <td>object</td>\n",
              "      <td>81993</td>\n",
              "      <td>0</td>\n",
              "      <td>41</td>\n",
              "    </tr>\n",
              "    <tr>\n",
              "      <th>3</th>\n",
              "      <td>color</td>\n",
              "      <td>object</td>\n",
              "      <td>81993</td>\n",
              "      <td>0</td>\n",
              "      <td>70</td>\n",
              "    </tr>\n",
              "    <tr>\n",
              "      <th>4</th>\n",
              "      <td>skuCollection</td>\n",
              "      <td>object</td>\n",
              "      <td>81993</td>\n",
              "      <td>1851</td>\n",
              "      <td>25</td>\n",
              "    </tr>\n",
              "    <tr>\n",
              "      <th>5</th>\n",
              "      <td>skuUnitOfMeasurement</td>\n",
              "      <td>object</td>\n",
              "      <td>81993</td>\n",
              "      <td>0</td>\n",
              "      <td>3</td>\n",
              "    </tr>\n",
              "    <tr>\n",
              "      <th>6</th>\n",
              "      <td>productSegment</td>\n",
              "      <td>object</td>\n",
              "      <td>81993</td>\n",
              "      <td>0</td>\n",
              "      <td>6</td>\n",
              "    </tr>\n",
              "    <tr>\n",
              "      <th>7</th>\n",
              "      <td>productCategory</td>\n",
              "      <td>object</td>\n",
              "      <td>81993</td>\n",
              "      <td>0</td>\n",
              "      <td>40</td>\n",
              "    </tr>\n",
              "    <tr>\n",
              "      <th>8</th>\n",
              "      <td>productLine</td>\n",
              "      <td>object</td>\n",
              "      <td>81993</td>\n",
              "      <td>29963</td>\n",
              "      <td>82</td>\n",
              "    </tr>\n",
              "    <tr>\n",
              "      <th>9</th>\n",
              "      <td>productCollection</td>\n",
              "      <td>object</td>\n",
              "      <td>81993</td>\n",
              "      <td>5978</td>\n",
              "      <td>25</td>\n",
              "    </tr>\n",
              "    <tr>\n",
              "      <th>10</th>\n",
              "      <td>productProfile</td>\n",
              "      <td>object</td>\n",
              "      <td>81993</td>\n",
              "      <td>843</td>\n",
              "      <td>33</td>\n",
              "    </tr>\n",
              "    <tr>\n",
              "      <th>11</th>\n",
              "      <td>productTouchId</td>\n",
              "      <td>object</td>\n",
              "      <td>81993</td>\n",
              "      <td>16040</td>\n",
              "      <td>10</td>\n",
              "    </tr>\n",
              "    <tr>\n",
              "      <th>12</th>\n",
              "      <td>productSeasonId</td>\n",
              "      <td>object</td>\n",
              "      <td>81993</td>\n",
              "      <td>66526</td>\n",
              "      <td>7</td>\n",
              "    </tr>\n",
              "    <tr>\n",
              "      <th>13</th>\n",
              "      <td>productOccasionId</td>\n",
              "      <td>object</td>\n",
              "      <td>81993</td>\n",
              "      <td>4067</td>\n",
              "      <td>8</td>\n",
              "    </tr>\n",
              "    <tr>\n",
              "      <th>14</th>\n",
              "      <td>productCareId</td>\n",
              "      <td>float64</td>\n",
              "      <td>81993</td>\n",
              "      <td>81993</td>\n",
              "      <td>0</td>\n",
              "    </tr>\n",
              "    <tr>\n",
              "      <th>15</th>\n",
              "      <td>productBrandId</td>\n",
              "      <td>object</td>\n",
              "      <td>81993</td>\n",
              "      <td>0</td>\n",
              "      <td>22</td>\n",
              "    </tr>\n",
              "    <tr>\n",
              "      <th>16</th>\n",
              "      <td>productMacroCategory</td>\n",
              "      <td>object</td>\n",
              "      <td>81993</td>\n",
              "      <td>0</td>\n",
              "      <td>25</td>\n",
              "    </tr>\n",
              "    <tr>\n",
              "      <th>17</th>\n",
              "      <td>skuLength</td>\n",
              "      <td>float64</td>\n",
              "      <td>81993</td>\n",
              "      <td>389</td>\n",
              "      <td>46</td>\n",
              "    </tr>\n",
              "    <tr>\n",
              "      <th>18</th>\n",
              "      <td>skuWidth</td>\n",
              "      <td>float64</td>\n",
              "      <td>81993</td>\n",
              "      <td>389</td>\n",
              "      <td>53</td>\n",
              "    </tr>\n",
              "    <tr>\n",
              "      <th>19</th>\n",
              "      <td>skuHeight</td>\n",
              "      <td>float64</td>\n",
              "      <td>81993</td>\n",
              "      <td>389</td>\n",
              "      <td>47</td>\n",
              "    </tr>\n",
              "    <tr>\n",
              "      <th>20</th>\n",
              "      <td>skuIsBundle</td>\n",
              "      <td>bool</td>\n",
              "      <td>81993</td>\n",
              "      <td>0</td>\n",
              "      <td>2</td>\n",
              "    </tr>\n",
              "    <tr>\n",
              "      <th>21</th>\n",
              "      <td>skuProducedInternationally</td>\n",
              "      <td>object</td>\n",
              "      <td>81993</td>\n",
              "      <td>58002</td>\n",
              "      <td>1</td>\n",
              "    </tr>\n",
              "    <tr>\n",
              "      <th>22</th>\n",
              "      <td>minPurchaseValueFrom</td>\n",
              "      <td>float64</td>\n",
              "      <td>81993</td>\n",
              "      <td>19131</td>\n",
              "      <td>259</td>\n",
              "    </tr>\n",
              "    <tr>\n",
              "      <th>23</th>\n",
              "      <td>maxPurchaseValueFrom</td>\n",
              "      <td>float64</td>\n",
              "      <td>81993</td>\n",
              "      <td>19131</td>\n",
              "      <td>259</td>\n",
              "    </tr>\n",
              "    <tr>\n",
              "      <th>24</th>\n",
              "      <td>avgPurchaseValueFrom</td>\n",
              "      <td>float64</td>\n",
              "      <td>81993</td>\n",
              "      <td>19131</td>\n",
              "      <td>318</td>\n",
              "    </tr>\n",
              "    <tr>\n",
              "      <th>25</th>\n",
              "      <td>stddevPurchaseValueFrom</td>\n",
              "      <td>float64</td>\n",
              "      <td>81993</td>\n",
              "      <td>52037</td>\n",
              "      <td>53</td>\n",
              "    </tr>\n",
              "    <tr>\n",
              "      <th>26</th>\n",
              "      <td>minPurchaseValueTo</td>\n",
              "      <td>float64</td>\n",
              "      <td>81993</td>\n",
              "      <td>19131</td>\n",
              "      <td>341</td>\n",
              "    </tr>\n",
              "    <tr>\n",
              "      <th>27</th>\n",
              "      <td>maxPurchaseValueTo</td>\n",
              "      <td>float64</td>\n",
              "      <td>81993</td>\n",
              "      <td>19131</td>\n",
              "      <td>342</td>\n",
              "    </tr>\n",
              "    <tr>\n",
              "      <th>28</th>\n",
              "      <td>avgPurchaseValueTo</td>\n",
              "      <td>float64</td>\n",
              "      <td>81993</td>\n",
              "      <td>19131</td>\n",
              "      <td>511</td>\n",
              "    </tr>\n",
              "    <tr>\n",
              "      <th>29</th>\n",
              "      <td>stddevPurchaseValueTo</td>\n",
              "      <td>float64</td>\n",
              "      <td>81993</td>\n",
              "      <td>52037</td>\n",
              "      <td>157</td>\n",
              "    </tr>\n",
              "    <tr>\n",
              "      <th>30</th>\n",
              "      <td>amount</td>\n",
              "      <td>int64</td>\n",
              "      <td>81993</td>\n",
              "      <td>0</td>\n",
              "      <td>139</td>\n",
              "    </tr>\n",
              "  </tbody>\n",
              "</table>\n",
              "</div>"
            ],
            "text/plain": [
              "                       Colunas     Tipo  ...  Qtd_Nulls  Qtd_Valores_unicos\n",
              "0                          sku   object  ...          0                 432\n",
              "1                 creationDate   object  ...          0                2426\n",
              "2                         size   object  ...          0                  41\n",
              "3                        color   object  ...          0                  70\n",
              "4                skuCollection   object  ...       1851                  25\n",
              "5         skuUnitOfMeasurement   object  ...          0                   3\n",
              "6               productSegment   object  ...          0                   6\n",
              "7              productCategory   object  ...          0                  40\n",
              "8                  productLine   object  ...      29963                  82\n",
              "9            productCollection   object  ...       5978                  25\n",
              "10              productProfile   object  ...        843                  33\n",
              "11              productTouchId   object  ...      16040                  10\n",
              "12             productSeasonId   object  ...      66526                   7\n",
              "13           productOccasionId   object  ...       4067                   8\n",
              "14               productCareId  float64  ...      81993                   0\n",
              "15              productBrandId   object  ...          0                  22\n",
              "16        productMacroCategory   object  ...          0                  25\n",
              "17                   skuLength  float64  ...        389                  46\n",
              "18                    skuWidth  float64  ...        389                  53\n",
              "19                   skuHeight  float64  ...        389                  47\n",
              "20                 skuIsBundle     bool  ...          0                   2\n",
              "21  skuProducedInternationally   object  ...      58002                   1\n",
              "22        minPurchaseValueFrom  float64  ...      19131                 259\n",
              "23        maxPurchaseValueFrom  float64  ...      19131                 259\n",
              "24        avgPurchaseValueFrom  float64  ...      19131                 318\n",
              "25     stddevPurchaseValueFrom  float64  ...      52037                  53\n",
              "26          minPurchaseValueTo  float64  ...      19131                 341\n",
              "27          maxPurchaseValueTo  float64  ...      19131                 342\n",
              "28          avgPurchaseValueTo  float64  ...      19131                 511\n",
              "29       stddevPurchaseValueTo  float64  ...      52037                 157\n",
              "30                      amount    int64  ...          0                 139\n",
              "\n",
              "[31 rows x 5 columns]"
            ]
          },
          "metadata": {
            "tags": []
          },
          "execution_count": 8
        }
      ]
    },
    {
      "cell_type": "markdown",
      "metadata": {
        "id": "wPXJZE3-cwTS"
      },
      "source": [
        "## Parte 1 - Pré-Processamento dos dados\n",
        "\n",
        "1. Através do dataset fornecido em csv, construa um pandas DataFrame, selecionando as colunas relevantes, adequando possíveis valores de colunas aos dtypes ideais e colocando labels mais amigáveis (números inteiros) em relação aos dados categóricos fornecidos. Também nesta fase você pode criar um ou mais colunas, combinando dados, se achar necessário.\n",
        "2. Feito isso, descubra quais são as macro categorias responsáveis por 80% do faturamento no período todo do dataset.\n",
        "3. Para fins de simplificação do teste, crie um dataset contendo apenas dados da principal macro categoria em termos de faturamento, selecione os dados apenas de 2018 em diante, até o final de Janeiro de 2020.\n",
        "4. Separe o dataset resultante em dataset de treino (dados de 2018 em diante até o final de 2019) e teste (dados de Janeiro de 2020).\n"
      ]
    },
    {
      "cell_type": "markdown",
      "metadata": {
        "id": "Imn2hDUmRUla"
      },
      "source": [
        "Nesse primeiro processamento, o objetivo foi identificar qual o faturamento de cada macro categoria, para que assim possamos identificar quais macro categorias são responsáveis por 80% do faturamento no período todo do dataset. \n",
        "Para realizar isso, temos alguns problemas iniciais: \n",
        "1. Existem informações nulas referentes aos valores pagos de alguns SKU\n",
        "2. A coluna amount pode referenciar ao número de SKU vendido, podendo ser maior que 1. \n",
        "\n",
        "Dessa forma, a estratégia utilizada foi:\n",
        "1. Determinar o preço de compra unitário de cada SKU\n",
        "\n",
        "    a. Cálculo de avgPurchaseValueTo/amount \n",
        "2. Calcular a receita adquirida com cada linha de compra\n",
        "    \n",
        "    Preço médio por SKU * unidade(amount)\n",
        "3. Agrupar por macrocategoria e somar o faturamento por linha de compra\n"
      ]
    },
    {
      "cell_type": "code",
      "metadata": {
        "id": "UxHsg2fcdqm2"
      },
      "source": [
        "df_challenge_filtered = df_challenge[['sku','creationDate','productSegment','productCategory','productCollection','productSeasonId','productOccasionId','productCareId','productMacroCategory','skuLength', 'skuWidth','skuHeight', 'skuIsBundle','minPurchaseValueFrom', 'maxPurchaseValueFrom', 'avgPurchaseValueFrom','stddevPurchaseValueFrom', 'minPurchaseValueTo', 'maxPurchaseValueTo','avgPurchaseValueTo', 'stddevPurchaseValueTo', 'amount']]"
      ],
      "execution_count": 9,
      "outputs": []
    },
    {
      "cell_type": "code",
      "metadata": {
        "id": "7EM0eNJAmsju"
      },
      "source": [
        "df_challenge_filtered[\"avgPurchaseValueFrom_persku\"] = df_challenge_filtered[\"avgPurchaseValueFrom\"]/df_challenge_filtered[\"amount\"]\n",
        "df_challenge_filtered[\"avgPurchaseValueTo_persku\"] = df_challenge_filtered[\"avgPurchaseValueTo\"]/df_challenge_filtered[\"amount\"]"
      ],
      "execution_count": 10,
      "outputs": []
    },
    {
      "cell_type": "code",
      "metadata": {
        "id": "N0amn_fJfd5y"
      },
      "source": [
        "## dataframe auxiliar para encontrar o valor médio do sku\n",
        "df_faturamento = df_challenge_filtered.groupby([\"sku\",'productMacroCategory']).agg({'avgPurchaseValueFrom_persku':'mean', 'avgPurchaseValueTo_persku':'mean','amount':'sum'}).reset_index()"
      ],
      "execution_count": 11,
      "outputs": []
    },
    {
      "cell_type": "code",
      "metadata": {
        "id": "n_j-2wGn-8nQ"
      },
      "source": [
        "def preenche_valor_sku(sku, valor):\n",
        "  if pd.isna(valor):\n",
        "    return df_faturamento.loc[df_faturamento[\"sku\"]== sku,\"avgPurchaseValueTo_persku\"].reset_index(drop=True)[0]\n",
        "  return valor"
      ],
      "execution_count": 12,
      "outputs": []
    },
    {
      "cell_type": "code",
      "metadata": {
        "id": "byMbNtaJ-5ro"
      },
      "source": [
        "df_challenge_filtered[\"new_valor_purchase_row\"] = df_challenge_filtered.apply(lambda row: preenche_valor_sku(row['sku'],row['avgPurchaseValueTo_persku']), axis = 1)"
      ],
      "execution_count": 13,
      "outputs": []
    },
    {
      "cell_type": "code",
      "metadata": {
        "id": "6t_mcordE-RP"
      },
      "source": [
        "df_challenge_filtered[\"faturamento_sku\"] = df_challenge_filtered.amount*df_challenge_filtered[\"new_valor_purchase_row\"] "
      ],
      "execution_count": 14,
      "outputs": []
    },
    {
      "cell_type": "code",
      "metadata": {
        "id": "esFGTsNmNUVU"
      },
      "source": [
        "df_macro = df_challenge_filtered.groupby(\"productMacroCategory\").agg({\"faturamento_sku\":'sum'}).reset_index()\n",
        "df_macro['perc'] = df_macro[\"faturamento_sku\"]/df_macro[\"faturamento_sku\"].sum() "
      ],
      "execution_count": 15,
      "outputs": []
    },
    {
      "cell_type": "code",
      "metadata": {
        "id": "KVdpZrEUZIG3"
      },
      "source": [
        "df_macro.sort_values('perc',ascending=False, inplace=True)"
      ],
      "execution_count": 16,
      "outputs": []
    },
    {
      "cell_type": "code",
      "metadata": {
        "colab": {
          "base_uri": "https://localhost:8080/",
          "height": 759
        },
        "id": "wQ2UlFh8flNM",
        "outputId": "7ce2e65e-6e42-44ce-b44d-ec716ad74115"
      },
      "source": [
        "df_macro['sum_perc'] = df_macro.perc.cumsum()*100\n",
        "df_macro"
      ],
      "execution_count": 17,
      "outputs": [
        {
          "output_type": "execute_result",
          "data": {
            "text/html": [
              "<div>\n",
              "<style scoped>\n",
              "    .dataframe tbody tr th:only-of-type {\n",
              "        vertical-align: middle;\n",
              "    }\n",
              "\n",
              "    .dataframe tbody tr th {\n",
              "        vertical-align: top;\n",
              "    }\n",
              "\n",
              "    .dataframe thead th {\n",
              "        text-align: right;\n",
              "    }\n",
              "</style>\n",
              "<table border=\"1\" class=\"dataframe\">\n",
              "  <thead>\n",
              "    <tr style=\"text-align: right;\">\n",
              "      <th></th>\n",
              "      <th>productMacroCategory</th>\n",
              "      <th>faturamento_sku</th>\n",
              "      <th>perc</th>\n",
              "      <th>sum_perc</th>\n",
              "    </tr>\n",
              "  </thead>\n",
              "  <tbody>\n",
              "    <tr>\n",
              "      <th>22</th>\n",
              "      <td>b'\\xff\\x9e\\xbbe\\xf4\\x00\\x8b\\xbd\\x98_G\\x06\\xf0\\...</td>\n",
              "      <td>1.390430e+10</td>\n",
              "      <td>0.360015</td>\n",
              "      <td>36.001505</td>\n",
              "    </tr>\n",
              "    <tr>\n",
              "      <th>9</th>\n",
              "      <td>b'\\x1e\\xf9\\x92\\xed\\x1c\\xbe\\x93J\\xe3\\xd6y}\\x95\\...</td>\n",
              "      <td>9.406561e+09</td>\n",
              "      <td>0.243558</td>\n",
              "      <td>60.357309</td>\n",
              "    </tr>\n",
              "    <tr>\n",
              "      <th>1</th>\n",
              "      <td>b\"\\xcc\\xa3\\x8a\\xfa\\xda\\xc4\\xd1nT\\n\\xbf\\\\\\x1f3d...</td>\n",
              "      <td>4.083437e+09</td>\n",
              "      <td>0.105730</td>\n",
              "      <td>70.930289</td>\n",
              "    </tr>\n",
              "    <tr>\n",
              "      <th>7</th>\n",
              "      <td>b'Tc\\xc4\\xf8\\xc6\\xbb\\xde\\xa0\\xa8\\xa2\\x05v\"\\xb2...</td>\n",
              "      <td>3.427145e+09</td>\n",
              "      <td>0.088737</td>\n",
              "      <td>79.803975</td>\n",
              "    </tr>\n",
              "    <tr>\n",
              "      <th>4</th>\n",
              "      <td>b'Cs\\xd8?\\xea\\xdf!Z\\x06\\xce\\xc4`ww\\xf1\\xc0\\x80...</td>\n",
              "      <td>2.007584e+09</td>\n",
              "      <td>0.051981</td>\n",
              "      <td>85.002083</td>\n",
              "    </tr>\n",
              "    <tr>\n",
              "      <th>8</th>\n",
              "      <td>b'\\x02\\x07\\xfa\\x1a\\xaf\\xcb\\x91\\xd9\\x86\"]\\x11H-...</td>\n",
              "      <td>1.056329e+09</td>\n",
              "      <td>0.027351</td>\n",
              "      <td>87.737168</td>\n",
              "    </tr>\n",
              "    <tr>\n",
              "      <th>21</th>\n",
              "      <td>b'\\xf3E\\xc2\\x87\\xef8E\\xd55\\xd9gb,Xb\\xb9\\xe1\\xa...</td>\n",
              "      <td>9.870122e+08</td>\n",
              "      <td>0.025556</td>\n",
              "      <td>90.292775</td>\n",
              "    </tr>\n",
              "    <tr>\n",
              "      <th>11</th>\n",
              "      <td>b'\\x97\\xdep\\n\\xa7#/\\x98\\xb1\\xd4\\x96\\xbb!z\\x9a\\...</td>\n",
              "      <td>6.472034e+08</td>\n",
              "      <td>0.016758</td>\n",
              "      <td>91.968538</td>\n",
              "    </tr>\n",
              "    <tr>\n",
              "      <th>14</th>\n",
              "      <td>b'\\xb8y\\x9ca-\\x19p\\xae\\xa9)\\x94V\\x89\\x8c\\xb5\\x...</td>\n",
              "      <td>6.415022e+08</td>\n",
              "      <td>0.016610</td>\n",
              "      <td>93.629538</td>\n",
              "    </tr>\n",
              "    <tr>\n",
              "      <th>17</th>\n",
              "      <td>b'\\xd4\\xd7\\x91\\x00\\xf9\\xcb_\\x94\\x91\\x14\\xa3\\xd...</td>\n",
              "      <td>6.007139e+08</td>\n",
              "      <td>0.015554</td>\n",
              "      <td>95.184928</td>\n",
              "    </tr>\n",
              "    <tr>\n",
              "      <th>2</th>\n",
              "      <td>b\"a[/Lr\\xe1X\\xed\\xc5:\\x98\\x96\\xb6\\x82\\xe37\\xc5...</td>\n",
              "      <td>4.352410e+08</td>\n",
              "      <td>0.011269</td>\n",
              "      <td>96.311869</td>\n",
              "    </tr>\n",
              "    <tr>\n",
              "      <th>23</th>\n",
              "      <td>b'x\\xfe\\xc3i\\x0c\\xbf\\xd9?\\x1c\\xd7\\x9b\\xb0\\xd8\\...</td>\n",
              "      <td>3.839979e+08</td>\n",
              "      <td>0.009943</td>\n",
              "      <td>97.306131</td>\n",
              "    </tr>\n",
              "    <tr>\n",
              "      <th>20</th>\n",
              "      <td>b'\\xe9,Q\\xe3\\xb8\\xac\\xb2\\xe4\\x116\\xd7\\xf3\\x86\\...</td>\n",
              "      <td>3.551827e+08</td>\n",
              "      <td>0.009197</td>\n",
              "      <td>98.225782</td>\n",
              "    </tr>\n",
              "    <tr>\n",
              "      <th>15</th>\n",
              "      <td>b'\\xc27B\\x9b\\xc6\\x08\\xcba\\xa6.\\x9b\\x1emw\\xb8\\x...</td>\n",
              "      <td>2.396204e+08</td>\n",
              "      <td>0.006204</td>\n",
              "      <td>98.846216</td>\n",
              "    </tr>\n",
              "    <tr>\n",
              "      <th>5</th>\n",
              "      <td>b'J\\xf5\\xad\\x8b2\\x96X\\xebBC\\xfd\\x85&amp;\\x8d\\xcf\\x...</td>\n",
              "      <td>1.479050e+08</td>\n",
              "      <td>0.003830</td>\n",
              "      <td>99.229177</td>\n",
              "    </tr>\n",
              "    <tr>\n",
              "      <th>19</th>\n",
              "      <td>b'\\xe8\\x90\\xd5\\x9cqNb:\\xdaj@\\x83!]4\\xbaK\\xa4\\x...</td>\n",
              "      <td>8.131041e+07</td>\n",
              "      <td>0.002105</td>\n",
              "      <td>99.439709</td>\n",
              "    </tr>\n",
              "    <tr>\n",
              "      <th>18</th>\n",
              "      <td>b'\\xe0\\x04\\x10 \\xa9t7M5\\xd0\\xceM\\xd5\\x02[v\\x0e...</td>\n",
              "      <td>4.448951e+07</td>\n",
              "      <td>0.001152</td>\n",
              "      <td>99.554903</td>\n",
              "    </tr>\n",
              "    <tr>\n",
              "      <th>3</th>\n",
              "      <td>b'+J\\xb8n\\x07S\\xac\\x92\\x88\\x8a8\\x9f\\t\\\\]\\xbfV\\...</td>\n",
              "      <td>3.276208e+07</td>\n",
              "      <td>0.000848</td>\n",
              "      <td>99.639731</td>\n",
              "    </tr>\n",
              "    <tr>\n",
              "      <th>0</th>\n",
              "      <td>b\"\\xa4\\xfd,_\\xda8UB\\xf5T\\xe91\\xf9|\\xf9:4\\xb9\\x...</td>\n",
              "      <td>3.210634e+07</td>\n",
              "      <td>0.000831</td>\n",
              "      <td>99.722862</td>\n",
              "    </tr>\n",
              "    <tr>\n",
              "      <th>10</th>\n",
              "      <td>b'\\x85f\\x9c\\x03\\r|\\x80\\x9e\\t\\xb0R\\x90\\x8e\\x0eK...</td>\n",
              "      <td>2.850709e+07</td>\n",
              "      <td>0.000738</td>\n",
              "      <td>99.796674</td>\n",
              "    </tr>\n",
              "    <tr>\n",
              "      <th>12</th>\n",
              "      <td>b'\\xaf\\x81*a\\x8dl\\xff`\\xe7\\x0f\\xc6\\xd9\\xac$\\xe...</td>\n",
              "      <td>2.751422e+07</td>\n",
              "      <td>0.000712</td>\n",
              "      <td>99.867915</td>\n",
              "    </tr>\n",
              "    <tr>\n",
              "      <th>6</th>\n",
              "      <td>b'P&gt;\\xd0\\xbd\\xe1\\xb7?4\\xcc\\xa3A\\xd7\\x16\\xe4\\x1...</td>\n",
              "      <td>2.436438e+07</td>\n",
              "      <td>0.000631</td>\n",
              "      <td>99.931000</td>\n",
              "    </tr>\n",
              "    <tr>\n",
              "      <th>24</th>\n",
              "      <td>b'z)\\x01*\\x89\\xb4\\xedo\\x94MEX\\xc6\\xady\\xdbXQ\\x...</td>\n",
              "      <td>1.893544e+07</td>\n",
              "      <td>0.000490</td>\n",
              "      <td>99.980028</td>\n",
              "    </tr>\n",
              "    <tr>\n",
              "      <th>13</th>\n",
              "      <td>b'\\xb6\\x08\\x82,\\x91SD\\xfe\\xd1\\x07\\x81\\xbcA\\x89...</td>\n",
              "      <td>5.084100e+06</td>\n",
              "      <td>0.000132</td>\n",
              "      <td>99.993192</td>\n",
              "    </tr>\n",
              "    <tr>\n",
              "      <th>16</th>\n",
              "      <td>b'\\xc8\\x12\\x87\\xf3\\xd2\\xd1\\x99\\xab\\x9e3^t\\xa2\\...</td>\n",
              "      <td>2.629384e+06</td>\n",
              "      <td>0.000068</td>\n",
              "      <td>100.000000</td>\n",
              "    </tr>\n",
              "  </tbody>\n",
              "</table>\n",
              "</div>"
            ],
            "text/plain": [
              "                                 productMacroCategory  ...    sum_perc\n",
              "22  b'\\xff\\x9e\\xbbe\\xf4\\x00\\x8b\\xbd\\x98_G\\x06\\xf0\\...  ...   36.001505\n",
              "9   b'\\x1e\\xf9\\x92\\xed\\x1c\\xbe\\x93J\\xe3\\xd6y}\\x95\\...  ...   60.357309\n",
              "1   b\"\\xcc\\xa3\\x8a\\xfa\\xda\\xc4\\xd1nT\\n\\xbf\\\\\\x1f3d...  ...   70.930289\n",
              "7   b'Tc\\xc4\\xf8\\xc6\\xbb\\xde\\xa0\\xa8\\xa2\\x05v\"\\xb2...  ...   79.803975\n",
              "4   b'Cs\\xd8?\\xea\\xdf!Z\\x06\\xce\\xc4`ww\\xf1\\xc0\\x80...  ...   85.002083\n",
              "8   b'\\x02\\x07\\xfa\\x1a\\xaf\\xcb\\x91\\xd9\\x86\"]\\x11H-...  ...   87.737168\n",
              "21  b'\\xf3E\\xc2\\x87\\xef8E\\xd55\\xd9gb,Xb\\xb9\\xe1\\xa...  ...   90.292775\n",
              "11  b'\\x97\\xdep\\n\\xa7#/\\x98\\xb1\\xd4\\x96\\xbb!z\\x9a\\...  ...   91.968538\n",
              "14  b'\\xb8y\\x9ca-\\x19p\\xae\\xa9)\\x94V\\x89\\x8c\\xb5\\x...  ...   93.629538\n",
              "17  b'\\xd4\\xd7\\x91\\x00\\xf9\\xcb_\\x94\\x91\\x14\\xa3\\xd...  ...   95.184928\n",
              "2   b\"a[/Lr\\xe1X\\xed\\xc5:\\x98\\x96\\xb6\\x82\\xe37\\xc5...  ...   96.311869\n",
              "23  b'x\\xfe\\xc3i\\x0c\\xbf\\xd9?\\x1c\\xd7\\x9b\\xb0\\xd8\\...  ...   97.306131\n",
              "20  b'\\xe9,Q\\xe3\\xb8\\xac\\xb2\\xe4\\x116\\xd7\\xf3\\x86\\...  ...   98.225782\n",
              "15  b'\\xc27B\\x9b\\xc6\\x08\\xcba\\xa6.\\x9b\\x1emw\\xb8\\x...  ...   98.846216\n",
              "5   b'J\\xf5\\xad\\x8b2\\x96X\\xebBC\\xfd\\x85&\\x8d\\xcf\\x...  ...   99.229177\n",
              "19  b'\\xe8\\x90\\xd5\\x9cqNb:\\xdaj@\\x83!]4\\xbaK\\xa4\\x...  ...   99.439709\n",
              "18  b'\\xe0\\x04\\x10 \\xa9t7M5\\xd0\\xceM\\xd5\\x02[v\\x0e...  ...   99.554903\n",
              "3   b'+J\\xb8n\\x07S\\xac\\x92\\x88\\x8a8\\x9f\\t\\\\]\\xbfV\\...  ...   99.639731\n",
              "0   b\"\\xa4\\xfd,_\\xda8UB\\xf5T\\xe91\\xf9|\\xf9:4\\xb9\\x...  ...   99.722862\n",
              "10  b'\\x85f\\x9c\\x03\\r|\\x80\\x9e\\t\\xb0R\\x90\\x8e\\x0eK...  ...   99.796674\n",
              "12  b'\\xaf\\x81*a\\x8dl\\xff`\\xe7\\x0f\\xc6\\xd9\\xac$\\xe...  ...   99.867915\n",
              "6   b'P>\\xd0\\xbd\\xe1\\xb7?4\\xcc\\xa3A\\xd7\\x16\\xe4\\x1...  ...   99.931000\n",
              "24  b'z)\\x01*\\x89\\xb4\\xedo\\x94MEX\\xc6\\xady\\xdbXQ\\x...  ...   99.980028\n",
              "13  b'\\xb6\\x08\\x82,\\x91SD\\xfe\\xd1\\x07\\x81\\xbcA\\x89...  ...   99.993192\n",
              "16  b'\\xc8\\x12\\x87\\xf3\\xd2\\xd1\\x99\\xab\\x9e3^t\\xa2\\...  ...  100.000000\n",
              "\n",
              "[25 rows x 4 columns]"
            ]
          },
          "metadata": {
            "tags": []
          },
          "execution_count": 17
        }
      ]
    },
    {
      "cell_type": "code",
      "metadata": {
        "colab": {
          "base_uri": "https://localhost:8080/"
        },
        "id": "haoBCeqoi2DW",
        "outputId": "6d25963e-6489-465d-c428-9a2eae033a09"
      },
      "source": [
        "## As macro categorias responsáveis por 80% do faturamento no período todo do dataset.\n",
        "df_macro[df_macro[\"sum_perc\"] <= 80][\"productMacroCategory\"]"
      ],
      "execution_count": 18,
      "outputs": [
        {
          "output_type": "execute_result",
          "data": {
            "text/plain": [
              "22    b'\\xff\\x9e\\xbbe\\xf4\\x00\\x8b\\xbd\\x98_G\\x06\\xf0\\...\n",
              "9     b'\\x1e\\xf9\\x92\\xed\\x1c\\xbe\\x93J\\xe3\\xd6y}\\x95\\...\n",
              "1     b\"\\xcc\\xa3\\x8a\\xfa\\xda\\xc4\\xd1nT\\n\\xbf\\\\\\x1f3d...\n",
              "7     b'Tc\\xc4\\xf8\\xc6\\xbb\\xde\\xa0\\xa8\\xa2\\x05v\"\\xb2...\n",
              "Name: productMacroCategory, dtype: object"
            ]
          },
          "metadata": {
            "tags": []
          },
          "execution_count": 18
        }
      ]
    },
    {
      "cell_type": "code",
      "metadata": {
        "colab": {
          "base_uri": "https://localhost:8080/",
          "height": 36
        },
        "id": "lzQOeiiXKqJq",
        "outputId": "2ff7daa5-6a19-46e9-da2e-ced5b9c9154f"
      },
      "source": [
        "## Separação da principal macro categoria\n",
        "major_category = df_macro[df_macro[\"faturamento_sku\"] == df_macro[\"faturamento_sku\"].max()][\"productMacroCategory\"].reset_index(drop=True)[0]\n",
        "major_category"
      ],
      "execution_count": 19,
      "outputs": [
        {
          "output_type": "execute_result",
          "data": {
            "application/vnd.google.colaboratory.intrinsic+json": {
              "type": "string"
            },
            "text/plain": [
              "\"b'\\\\xff\\\\x9e\\\\xbbe\\\\xf4\\\\x00\\\\x8b\\\\xbd\\\\x98_G\\\\x06\\\\xf0\\\\xb8\\\\xc3rY\\\\xb0]\\\\xe9C\\\\xbcnB\\\\xc5\\\\x03;j<Vb\\\\xba\\\\xbe\\\\x945\\\\xcd\\\\xaa\\\\xbf\\\\xf3#!\\\\xdet{\\\\x860\\\\xce\\\\xd0\\\\xb5P\\\\x93\\\\x9b\\\\x98\\\\x96\\\\x90\\\\xaa\\\\x96\\\\x15Uh\\\\xbc\\\\x0b\\\\x10\\\\xb1'\""
            ]
          },
          "metadata": {
            "tags": []
          },
          "execution_count": 19
        }
      ]
    },
    {
      "cell_type": "code",
      "metadata": {
        "id": "5hAa8ncSNYMo"
      },
      "source": [
        "dataset_novo = df_challenge_filtered[(df_challenge_filtered['creationDate'] > '2018')&(df_challenge_filtered['creationDate'] < '2020-02')&(df_challenge_filtered['productMacroCategory'] == major_category)]"
      ],
      "execution_count": 20,
      "outputs": []
    },
    {
      "cell_type": "markdown",
      "metadata": {
        "id": "uET3QTpugqN3"
      },
      "source": [
        "## Parte 2 - Predição de Série Temporal Univariada\n",
        "\n",
        "1. Vários modelos de predição de Série Temporal Univariada são possíveis. Escolha um modelo que você acredita ser adequado ao problema, considerando a granularidade diária de vendas. Fique à vontade para realizar uma feature engineering de dados de datas se julgar necessário.\n",
        "2. Avalie o modelo realizando um backtest no dataset de treino para os dias do mês de Dezembro de 2019 e informe as medidas de erro de MSE, RMSE, MAPE e Weighted MAPE.\n",
        "3. Realize as predições para os dias de Janeiro de 2020 e calcule as mesmas medidas de erro.\n"
      ]
    },
    {
      "cell_type": "code",
      "metadata": {
        "id": "TzcT1gI0xVY2"
      },
      "source": [
        "from datetime import datetime"
      ],
      "execution_count": 21,
      "outputs": []
    },
    {
      "cell_type": "code",
      "metadata": {
        "colab": {
          "base_uri": "https://localhost:8080/",
          "height": 189
        },
        "id": "u3eahaeZOV3A",
        "outputId": "e1dec547-f1d4-408f-c412-0d40f32bd3f1"
      },
      "source": [
        "## Nesse modelo de predição de série temporal univariada, utilizarei dados de data e faturamento\n",
        "## Criação do df contendo essas informações\n",
        "univariada = dataset_novo.groupby(\"creationDate\").agg({\"faturamento_sku\":\"sum\"}).reset_index()\n",
        "univariada.head()"
      ],
      "execution_count": 22,
      "outputs": [
        {
          "output_type": "execute_result",
          "data": {
            "text/html": [
              "<div>\n",
              "<style scoped>\n",
              "    .dataframe tbody tr th:only-of-type {\n",
              "        vertical-align: middle;\n",
              "    }\n",
              "\n",
              "    .dataframe tbody tr th {\n",
              "        vertical-align: top;\n",
              "    }\n",
              "\n",
              "    .dataframe thead th {\n",
              "        text-align: right;\n",
              "    }\n",
              "</style>\n",
              "<table border=\"1\" class=\"dataframe\">\n",
              "  <thead>\n",
              "    <tr style=\"text-align: right;\">\n",
              "      <th></th>\n",
              "      <th>creationDate</th>\n",
              "      <th>faturamento_sku</th>\n",
              "    </tr>\n",
              "  </thead>\n",
              "  <tbody>\n",
              "    <tr>\n",
              "      <th>0</th>\n",
              "      <td>2018-01-01</td>\n",
              "      <td>4.834190e+06</td>\n",
              "    </tr>\n",
              "    <tr>\n",
              "      <th>1</th>\n",
              "      <td>2018-01-02</td>\n",
              "      <td>2.894220e+06</td>\n",
              "    </tr>\n",
              "    <tr>\n",
              "      <th>2</th>\n",
              "      <td>2018-01-03</td>\n",
              "      <td>3.424452e+06</td>\n",
              "    </tr>\n",
              "    <tr>\n",
              "      <th>3</th>\n",
              "      <td>2018-01-04</td>\n",
              "      <td>4.360060e+06</td>\n",
              "    </tr>\n",
              "    <tr>\n",
              "      <th>4</th>\n",
              "      <td>2018-01-05</td>\n",
              "      <td>4.577580e+06</td>\n",
              "    </tr>\n",
              "  </tbody>\n",
              "</table>\n",
              "</div>"
            ],
            "text/plain": [
              "  creationDate  faturamento_sku\n",
              "0   2018-01-01     4.834190e+06\n",
              "1   2018-01-02     2.894220e+06\n",
              "2   2018-01-03     3.424452e+06\n",
              "3   2018-01-04     4.360060e+06\n",
              "4   2018-01-05     4.577580e+06"
            ]
          },
          "metadata": {
            "tags": []
          },
          "execution_count": 22
        }
      ]
    },
    {
      "cell_type": "code",
      "metadata": {
        "colab": {
          "base_uri": "https://localhost:8080/",
          "height": 189
        },
        "id": "DUohswq-xYkD",
        "outputId": "71127d0b-3e8a-44bd-e360-0167497bc754"
      },
      "source": [
        "univariada[\"creationDate\"] = univariada.apply(lambda row: datetime.strptime(row[\"creationDate\"],'%Y-%m-%d').date(), axis = 1)\n",
        "univariada.head()"
      ],
      "execution_count": 23,
      "outputs": [
        {
          "output_type": "execute_result",
          "data": {
            "text/html": [
              "<div>\n",
              "<style scoped>\n",
              "    .dataframe tbody tr th:only-of-type {\n",
              "        vertical-align: middle;\n",
              "    }\n",
              "\n",
              "    .dataframe tbody tr th {\n",
              "        vertical-align: top;\n",
              "    }\n",
              "\n",
              "    .dataframe thead th {\n",
              "        text-align: right;\n",
              "    }\n",
              "</style>\n",
              "<table border=\"1\" class=\"dataframe\">\n",
              "  <thead>\n",
              "    <tr style=\"text-align: right;\">\n",
              "      <th></th>\n",
              "      <th>creationDate</th>\n",
              "      <th>faturamento_sku</th>\n",
              "    </tr>\n",
              "  </thead>\n",
              "  <tbody>\n",
              "    <tr>\n",
              "      <th>0</th>\n",
              "      <td>2018-01-01</td>\n",
              "      <td>4.834190e+06</td>\n",
              "    </tr>\n",
              "    <tr>\n",
              "      <th>1</th>\n",
              "      <td>2018-01-02</td>\n",
              "      <td>2.894220e+06</td>\n",
              "    </tr>\n",
              "    <tr>\n",
              "      <th>2</th>\n",
              "      <td>2018-01-03</td>\n",
              "      <td>3.424452e+06</td>\n",
              "    </tr>\n",
              "    <tr>\n",
              "      <th>3</th>\n",
              "      <td>2018-01-04</td>\n",
              "      <td>4.360060e+06</td>\n",
              "    </tr>\n",
              "    <tr>\n",
              "      <th>4</th>\n",
              "      <td>2018-01-05</td>\n",
              "      <td>4.577580e+06</td>\n",
              "    </tr>\n",
              "  </tbody>\n",
              "</table>\n",
              "</div>"
            ],
            "text/plain": [
              "  creationDate  faturamento_sku\n",
              "0   2018-01-01     4.834190e+06\n",
              "1   2018-01-02     2.894220e+06\n",
              "2   2018-01-03     3.424452e+06\n",
              "3   2018-01-04     4.360060e+06\n",
              "4   2018-01-05     4.577580e+06"
            ]
          },
          "metadata": {
            "tags": []
          },
          "execution_count": 23
        }
      ]
    },
    {
      "cell_type": "code",
      "metadata": {
        "id": "M2cZE3FkyZid"
      },
      "source": [
        "startdate = pd.to_datetime(\"2018-01-01\").date()\n",
        "enddate = pd.to_datetime(\"2020-01-01\").date()\n",
        "backdate = pd.to_datetime(\"2019-12-01\").date()"
      ],
      "execution_count": 24,
      "outputs": []
    },
    {
      "cell_type": "code",
      "metadata": {
        "colab": {
          "base_uri": "https://localhost:8080/"
        },
        "id": "qzcyQbfhNo81",
        "outputId": "566606fb-57f2-415a-b8a4-e7076c2627b8"
      },
      "source": [
        "## Separação do dataset resultante em treino e teste:\n",
        "print(univariada.shape[0])\n",
        "dataset_treino = univariada[(univariada[\"creationDate\"] >= startdate)&(univariada[\"creationDate\"] < enddate)]\n",
        "print(dataset_treino.shape[0])\n",
        "dataset_teste = univariada[(univariada[\"creationDate\"] >= enddate)]\n",
        "print(dataset_teste.shape[0])"
      ],
      "execution_count": 25,
      "outputs": [
        {
          "output_type": "stream",
          "text": [
            "761\n",
            "730\n",
            "31\n"
          ],
          "name": "stdout"
        }
      ]
    },
    {
      "cell_type": "code",
      "metadata": {
        "id": "PU4rM9fUqwRg"
      },
      "source": [
        "dataset_backtest = univariada[(univariada[\"creationDate\"] >= backdate)&(univariada[\"creationDate\"] < enddate)]"
      ],
      "execution_count": 26,
      "outputs": []
    },
    {
      "cell_type": "code",
      "metadata": {
        "colab": {
          "base_uri": "https://localhost:8080/",
          "height": 328
        },
        "id": "cV-fsILSoKda",
        "outputId": "8e645ccd-7f63-4492-bfa7-de6bdae72625"
      },
      "source": [
        "ax = sns.lineplot(x=\"creationDate\",y='faturamento_sku', data=univariada)\n",
        "plt.title('Analise do faturamento ao longo do tempo', y=1.05, size=15)\n",
        "plt.xlabel('Data', fontsize=14)\n",
        "plt.ylabel('Faturamento', fontsize=14)"
      ],
      "execution_count": 27,
      "outputs": [
        {
          "output_type": "execute_result",
          "data": {
            "text/plain": [
              "Text(0, 0.5, 'Faturamento')"
            ]
          },
          "metadata": {
            "tags": []
          },
          "execution_count": 27
        },
        {
          "output_type": "display_data",
          "data": {
            "image/png": "[encoded data removed]",
            "text/plain": [
              "<Figure size 432x288 with 1 Axes>"
            ]
          },
          "metadata": {
            "tags": [],
            "needs_background": "light"
          }
        }
      ]
    },
    {
      "cell_type": "code",
      "metadata": {
        "colab": {
          "base_uri": "https://localhost:8080/",
          "height": 294
        },
        "id": "2Vq1qyrkoh04",
        "outputId": "91688cbd-bfef-4e27-f9ce-48d18fdeebc1"
      },
      "source": [
        "univariada[\"faturamento_sku\"].hist()"
      ],
      "execution_count": 28,
      "outputs": [
        {
          "output_type": "execute_result",
          "data": {
            "text/plain": [
              "<matplotlib.axes._subplots.AxesSubplot at 0x7ff9380ef750>"
            ]
          },
          "metadata": {
            "tags": []
          },
          "execution_count": 28
        },
        {
          "output_type": "display_data",
          "data": {
            "image/png": "[encoded data removed]",
            "text/plain": [
              "<Figure size 432x288 with 1 Axes>"
            ]
          },
          "metadata": {
            "tags": [],
            "needs_background": "light"
          }
        }
      ]
    },
    {
      "cell_type": "code",
      "metadata": {
        "colab": {
          "base_uri": "https://localhost:8080/"
        },
        "id": "UcQSUTR3pV60",
        "outputId": "f20808a4-e8d8-4086-d2f5-8f3db2abea4f"
      },
      "source": [
        "divide = int(len(univariada)/2)\n",
        "x = univariada['faturamento_sku'].values\n",
        "c1, c2 = x[0:divide],x[divide:]\n",
        "print(c1.mean())\n",
        "print(c2.mean())\n",
        "print(c1.var())\n",
        "print(c2.var())\n",
        "## Resultados indicam não estacionariedade da série"
      ],
      "execution_count": 29,
      "outputs": [
        {
          "output_type": "stream",
          "text": [
            "11800484.03326284\n",
            "19692557.635724172\n",
            "23969823497719.03\n",
            "43652624073871.85\n"
          ],
          "name": "stdout"
        }
      ]
    },
    {
      "cell_type": "code",
      "metadata": {
        "colab": {
          "base_uri": "https://localhost:8080/"
        },
        "id": "6UGXmCWqqsas",
        "outputId": "3b4598a3-ba43-42d9-f34c-ff5ea739acdd"
      },
      "source": [
        "!pip install statsmodels==v0.11.0rc2\n",
        "# !pip install statsmodels"
      ],
      "execution_count": 30,
      "outputs": [
        {
          "output_type": "stream",
          "text": [
            "Requirement already satisfied: statsmodels==v0.11.0rc2 in /usr/local/lib/python3.7/dist-packages (0.11.0rc2)\n",
            "Requirement already satisfied: pandas>=0.21 in /usr/local/lib/python3.7/dist-packages (from statsmodels==v0.11.0rc2) (1.1.5)\n",
            "Requirement already satisfied: numpy>=1.14 in /usr/local/lib/python3.7/dist-packages (from statsmodels==v0.11.0rc2) (1.19.5)\n",
            "Requirement already satisfied: patsy>=0.5 in /usr/local/lib/python3.7/dist-packages (from statsmodels==v0.11.0rc2) (0.5.1)\n",
            "Requirement already satisfied: scipy>=1.0 in /usr/local/lib/python3.7/dist-packages (from statsmodels==v0.11.0rc2) (1.4.1)\n",
            "Requirement already satisfied: pytz>=2017.2 in /usr/local/lib/python3.7/dist-packages (from pandas>=0.21->statsmodels==v0.11.0rc2) (2018.9)\n",
            "Requirement already satisfied: python-dateutil>=2.7.3 in /usr/local/lib/python3.7/dist-packages (from pandas>=0.21->statsmodels==v0.11.0rc2) (2.8.1)\n",
            "Requirement already satisfied: six in /usr/local/lib/python3.7/dist-packages (from patsy>=0.5->statsmodels==v0.11.0rc2) (1.15.0)\n"
          ],
          "name": "stdout"
        }
      ]
    },
    {
      "cell_type": "code",
      "metadata": {
        "colab": {
          "base_uri": "https://localhost:8080/"
        },
        "id": "w0nYX_Oip62_",
        "outputId": "6ab778a3-ae98-432f-bdc9-87c427d9b28e"
      },
      "source": [
        "from statsmodels.tsa.stattools import adfuller\n",
        "\n",
        "resultado_c = adfuller(univariada['faturamento_sku'].values)\n",
        "print('Estatística ADF', resultado_c[0])\n",
        "print('p-valor %f' %resultado_c[1])\n",
        "## Indica que a série tem uma tendência estácionária"
      ],
      "execution_count": 31,
      "outputs": [
        {
          "output_type": "stream",
          "text": [
            "Estatística ADF -3.17376655758862\n",
            "p-valor 0.021554\n"
          ],
          "name": "stdout"
        }
      ]
    },
    {
      "cell_type": "code",
      "metadata": {
        "id": "1OqtMHhNqcXZ"
      },
      "source": [
        "from statsmodels.tsa.seasonal import seasonal_decompose"
      ],
      "execution_count": 32,
      "outputs": []
    },
    {
      "cell_type": "code",
      "metadata": {
        "colab": {
          "base_uri": "https://localhost:8080/",
          "height": 217
        },
        "id": "SmOxEKdHuSxO",
        "outputId": "d101f905-086d-484f-8db4-747f2190a2a4"
      },
      "source": [
        "dataset_treino = dataset_treino.set_index(\"creationDate\")\n",
        "dataset_treino.head()\n",
        "dataset_teste = dataset_teste.set_index(\"creationDate\")\n",
        "dataset_teste.head()\n",
        "dataset_backtest = dataset_backtest.set_index(\"creationDate\")\n",
        "dataset_backtest.head()"
      ],
      "execution_count": 33,
      "outputs": [
        {
          "output_type": "execute_result",
          "data": {
            "text/html": [
              "<div>\n",
              "<style scoped>\n",
              "    .dataframe tbody tr th:only-of-type {\n",
              "        vertical-align: middle;\n",
              "    }\n",
              "\n",
              "    .dataframe tbody tr th {\n",
              "        vertical-align: top;\n",
              "    }\n",
              "\n",
              "    .dataframe thead th {\n",
              "        text-align: right;\n",
              "    }\n",
              "</style>\n",
              "<table border=\"1\" class=\"dataframe\">\n",
              "  <thead>\n",
              "    <tr style=\"text-align: right;\">\n",
              "      <th></th>\n",
              "      <th>faturamento_sku</th>\n",
              "    </tr>\n",
              "    <tr>\n",
              "      <th>creationDate</th>\n",
              "      <th></th>\n",
              "    </tr>\n",
              "  </thead>\n",
              "  <tbody>\n",
              "    <tr>\n",
              "      <th>2019-12-01</th>\n",
              "      <td>3.887861e+07</td>\n",
              "    </tr>\n",
              "    <tr>\n",
              "      <th>2019-12-02</th>\n",
              "      <td>2.535048e+07</td>\n",
              "    </tr>\n",
              "    <tr>\n",
              "      <th>2019-12-03</th>\n",
              "      <td>2.330309e+07</td>\n",
              "    </tr>\n",
              "    <tr>\n",
              "      <th>2019-12-04</th>\n",
              "      <td>1.639375e+07</td>\n",
              "    </tr>\n",
              "    <tr>\n",
              "      <th>2019-12-05</th>\n",
              "      <td>1.853621e+07</td>\n",
              "    </tr>\n",
              "  </tbody>\n",
              "</table>\n",
              "</div>"
            ],
            "text/plain": [
              "              faturamento_sku\n",
              "creationDate                 \n",
              "2019-12-01       3.887861e+07\n",
              "2019-12-02       2.535048e+07\n",
              "2019-12-03       2.330309e+07\n",
              "2019-12-04       1.639375e+07\n",
              "2019-12-05       1.853621e+07"
            ]
          },
          "metadata": {
            "tags": []
          },
          "execution_count": 33
        }
      ]
    },
    {
      "cell_type": "code",
      "metadata": {
        "id": "ECQ42P8ksP4q"
      },
      "source": [
        "from statsmodels.tsa.holtwinters import SimpleExpSmoothing\n",
        "from statsmodels.tsa.holtwinters import ExponentialSmoothing"
      ],
      "execution_count": 34,
      "outputs": []
    },
    {
      "cell_type": "code",
      "metadata": {
        "colab": {
          "base_uri": "https://localhost:8080/"
        },
        "id": "PKC5oH2euhMj",
        "outputId": "edad4297-e568-4f4d-93c2-ad3f2963b737"
      },
      "source": [
        "# modelo_ajustado = SimpleExpSmoothing(dataset_treino).fit(smoothing_level=1)\n",
        "modelo_ajustado = ExponentialSmoothing(dataset_treino,seasonal_periods=100 ,trend='add', seasonal='add').fit(smoothing_level=0.5)"
      ],
      "execution_count": 35,
      "outputs": [
        {
          "output_type": "stream",
          "text": [
            "/usr/local/lib/python3.7/dist-packages/statsmodels/tsa/base/tsa_model.py:162: ValueWarning: No frequency information was provided, so inferred frequency D will be used.\n",
            "  % freq, ValueWarning)\n"
          ],
          "name": "stderr"
        }
      ]
    },
    {
      "cell_type": "code",
      "metadata": {
        "id": "u_-IkXOhud5F"
      },
      "source": [
        "modelo_previsto = modelo_ajustado.forecast(dataset_teste.shape[0])"
      ],
      "execution_count": 36,
      "outputs": []
    },
    {
      "cell_type": "code",
      "metadata": {
        "colab": {
          "base_uri": "https://localhost:8080/",
          "height": 292
        },
        "id": "JNBbRIkKq5EF",
        "outputId": "e6e22158-0c9f-46e6-b60a-32ce75bac519"
      },
      "source": [
        "plt.plot(dataset_treino)\n",
        "plt.plot(dataset_treino.index,modelo_ajustado.fittedvalues.values)\n",
        "plt.plot(dataset_backtest,'g')\n",
        "plt.plot(dataset_backtest.index,modelo_previsto,'r.')"
      ],
      "execution_count": 37,
      "outputs": [
        {
          "output_type": "execute_result",
          "data": {
            "text/plain": [
              "[<matplotlib.lines.Line2D at 0x7ff9384af0d0>]"
            ]
          },
          "metadata": {
            "tags": []
          },
          "execution_count": 37
        },
        {
          "output_type": "display_data",
          "data": {
            "image/png": "[encoded data removed]",
            "text/plain": [
              "<Figure size 432x288 with 1 Axes>"
            ]
          },
          "metadata": {
            "tags": [],
            "needs_background": "light"
          }
        }
      ]
    },
    {
      "cell_type": "code",
      "metadata": {
        "colab": {
          "base_uri": "https://localhost:8080/"
        },
        "id": "CU981xNPrRki",
        "outputId": "75daeb78-888e-430a-99fd-e530927c2163"
      },
      "source": [
        "from sklearn.metrics import mean_squared_error\n",
        "print(\"MSE: {}\" .format(mean_squared_error(dataset_backtest.reset_index()[\"faturamento_sku\"], modelo_previsto)))\n",
        "print(\"RMSE: {}\" .format(np.sqrt(mean_squared_error(dataset_backtest.reset_index()[\"faturamento_sku\"], modelo_previsto))))\n",
        "print(\"MAPE: {}\" .format(mean_absolute_percentage_error(dataset_backtest.reset_index()[\"faturamento_sku\"], modelo_previsto)))\n",
        "print(\"Weighted MAPE: {}\" .format(weighted_mean_absolute_percentage_error(dataset_backtest.reset_index()[\"faturamento_sku\"], modelo_previsto)))"
      ],
      "execution_count": 38,
      "outputs": [
        {
          "output_type": "stream",
          "text": [
            "MSE: 55348744276067.195\n",
            "RMSE: 7439673.667310092\n",
            "MAPE: 37.14564483856388\n",
            "Weighted MAPE: 34.43228883998666\n"
          ],
          "name": "stdout"
        }
      ]
    },
    {
      "cell_type": "code",
      "metadata": {
        "colab": {
          "base_uri": "https://localhost:8080/",
          "height": 292
        },
        "id": "dnC2qK1Husin",
        "outputId": "f0303a37-7759-47f9-cb79-d37d16ea8ced"
      },
      "source": [
        "plt.plot(dataset_treino)\n",
        "plt.plot(dataset_treino.index,modelo_ajustado.fittedvalues.values)\n",
        "plt.plot(dataset_teste,'g')\n",
        "plt.plot(dataset_teste.index,modelo_previsto,'r.')"
      ],
      "execution_count": 39,
      "outputs": [
        {
          "output_type": "execute_result",
          "data": {
            "text/plain": [
              "[<matplotlib.lines.Line2D at 0x7ff937ae8810>]"
            ]
          },
          "metadata": {
            "tags": []
          },
          "execution_count": 39
        },
        {
          "output_type": "display_data",
          "data": {
            "image/png": "[encoded data removed]",
            "text/plain": [
              "<Figure size 432x288 with 1 Axes>"
            ]
          },
          "metadata": {
            "tags": [],
            "needs_background": "light"
          }
        }
      ]
    },
    {
      "cell_type": "code",
      "metadata": {
        "colab": {
          "base_uri": "https://localhost:8080/",
          "height": 292
        },
        "id": "Pf_G7Erkuv1n",
        "outputId": "c37d3de5-688b-4c7e-e666-6dfbd689a23d"
      },
      "source": [
        "plt.plot(dataset_teste,'g')\n",
        "plt.plot(dataset_teste.index,modelo_previsto,'r.')"
      ],
      "execution_count": 40,
      "outputs": [
        {
          "output_type": "execute_result",
          "data": {
            "text/plain": [
              "[<matplotlib.lines.Line2D at 0x7ff937a57dd0>]"
            ]
          },
          "metadata": {
            "tags": []
          },
          "execution_count": 40
        },
        {
          "output_type": "display_data",
          "data": {
            "image/png": "[encoded data removed]",
            "text/plain": [
              "<Figure size 432x288 with 1 Axes>"
            ]
          },
          "metadata": {
            "tags": [],
            "needs_background": "light"
          }
        }
      ]
    },
    {
      "cell_type": "code",
      "metadata": {
        "colab": {
          "base_uri": "https://localhost:8080/"
        },
        "id": "vJ81D4SdxICW",
        "outputId": "3938d1cf-ac66-421b-a55f-480dbe6412d5"
      },
      "source": [
        "from sklearn.metrics import mean_squared_error\n",
        "print(\"MSE: {}\" .format(mean_squared_error(dataset_teste.reset_index()[\"faturamento_sku\"], modelo_previsto)))\n",
        "print(\"RMSE: {}\" .format(np.sqrt(mean_squared_error(dataset_teste.reset_index()[\"faturamento_sku\"], modelo_previsto))))\n",
        "print(\"MAPE: {}\" .format(mean_absolute_percentage_error(dataset_teste.reset_index()[\"faturamento_sku\"], modelo_previsto)))\n",
        "print(\"Weighted MAPE: {}\" .format(weighted_mean_absolute_percentage_error(dataset_teste.reset_index()[\"faturamento_sku\"], modelo_previsto)))\n"
      ],
      "execution_count": 41,
      "outputs": [
        {
          "output_type": "stream",
          "text": [
            "MSE: 14696039304134.83\n",
            "RMSE: 3833541.35286615\n",
            "MAPE: 26.105145640770722\n",
            "Weighted MAPE: 23.59031131307997\n"
          ],
          "name": "stdout"
        }
      ]
    },
    {
      "cell_type": "code",
      "metadata": {
        "id": "DXW0xgTu3kgm"
      },
      "source": [
        "import statsmodels.api as sm"
      ],
      "execution_count": 42,
      "outputs": []
    },
    {
      "cell_type": "code",
      "metadata": {
        "id": "f48pKxaarvXg"
      },
      "source": [
        "backstartdate = pd.to_datetime(\"2019-12-01\").date()\n",
        "backenddate = pd.to_datetime(\"2020-01-01\").date()"
      ],
      "execution_count": 43,
      "outputs": []
    },
    {
      "cell_type": "code",
      "metadata": {
        "id": "m4g-za5b6sBt"
      },
      "source": [
        "startdate = pd.to_datetime(\"2020-01-01\").date()\n",
        "enddate = pd.to_datetime(\"2020-01-31\").date()"
      ],
      "execution_count": 44,
      "outputs": []
    },
    {
      "cell_type": "code",
      "metadata": {
        "colab": {
          "base_uri": "https://localhost:8080/",
          "height": 559
        },
        "id": "XzEptv0ZrtYJ",
        "outputId": "99900afb-28a4-4a22-be32-4bdb13ddc923"
      },
      "source": [
        "import statsmodels.api as sm\n",
        "fit1 = sm.tsa.statespace.SARIMAX(dataset_treino[\"faturamento_sku\"],order=(1, 0, 0), seasonal_order=(0, 0, 1, 7)).fit(use_boxcox=True)\n",
        "dataset_backtest['SARIMA'] = fit1.predict(start=backstartdate, end=backenddate, dynamic=True)\n",
        "plt.figure(figsize=(16, 8))\n",
        "plt.plot(dataset_treino['faturamento_sku'], label='Train')\n",
        "plt.plot(dataset_backtest['faturamento_sku'], label='Test')\n",
        "plt.plot(dataset_backtest['SARIMA'], label='SARIMA')\n",
        "plt.legend(loc='best')\n",
        "plt.show()"
      ],
      "execution_count": 45,
      "outputs": [
        {
          "output_type": "stream",
          "text": [
            "/usr/local/lib/python3.7/dist-packages/statsmodels/tsa/base/tsa_model.py:162: ValueWarning: No frequency information was provided, so inferred frequency D will be used.\n",
            "  % freq, ValueWarning)\n",
            "/usr/local/lib/python3.7/dist-packages/statsmodels/tsa/base/tsa_model.py:162: ValueWarning: No frequency information was provided, so inferred frequency D will be used.\n",
            "  % freq, ValueWarning)\n"
          ],
          "name": "stderr"
        },
        {
          "output_type": "display_data",
          "data": {
            "image/png": "[encoded data removed]",
            "text/plain": [
              "<Figure size 1152x576 with 1 Axes>"
            ]
          },
          "metadata": {
            "tags": [],
            "needs_background": "light"
          }
        }
      ]
    },
    {
      "cell_type": "code",
      "metadata": {
        "colab": {
          "base_uri": "https://localhost:8080/"
        },
        "id": "RZ_cgPhcr9Bp",
        "outputId": "552f4a42-cfe4-478e-82ed-328cb7fac791"
      },
      "source": [
        "print(\"MSE: {}\" .format(mean_squared_error(dataset_backtest.reset_index()[\"faturamento_sku\"], dataset_backtest.reset_index()[\"SARIMA\"])))\n",
        "print(\"RMSE: {}\" .format(np.sqrt(mean_squared_error(dataset_backtest.reset_index()[\"faturamento_sku\"], dataset_backtest.reset_index()[\"SARIMA\"]))))\n",
        "print(\"MAPE: {}\" .format(mean_absolute_percentage_error(dataset_backtest.reset_index()[\"faturamento_sku\"], dataset_backtest.reset_index()[\"SARIMA\"])))\n",
        "print(\"Weighted MAPE: {}\" .format(weighted_mean_absolute_percentage_error(dataset_backtest.reset_index()[\"faturamento_sku\"], dataset_backtest.reset_index()[\"SARIMA\"])))\n"
      ],
      "execution_count": 46,
      "outputs": [
        {
          "output_type": "stream",
          "text": [
            "MSE: 72338730746651.77\n",
            "RMSE: 8505217.854155868\n",
            "MAPE: 61.46775128970968\n",
            "Weighted MAPE: 48.192295322581806\n"
          ],
          "name": "stdout"
        }
      ]
    },
    {
      "cell_type": "code",
      "metadata": {
        "colab": {
          "base_uri": "https://localhost:8080/",
          "height": 559
        },
        "id": "uSotLx9M6Cfx",
        "outputId": "faef82ba-7d95-41e9-dcef-f83109a6367b"
      },
      "source": [
        "import statsmodels.api as sm\n",
        "# fit1 = sm.tsa.statespace.SARIMAX(dataset_treino[\"faturamento_sku\"],order=(1, 0, 5), seasonal_order=(0, 1, 2, 35)).fit(use_boxcox=True)\n",
        "fit1 = sm.tsa.statespace.SARIMAX(dataset_treino[\"faturamento_sku\"],order=(1, 0, 0), seasonal_order=(0, 0, 1, 7)).fit(use_boxcox=True)\n",
        "dataset_teste['SARIMA'] = fit1.predict(start=startdate, end=enddate, dynamic=True)\n",
        "plt.figure(figsize=(16, 8))\n",
        "plt.plot(dataset_treino['faturamento_sku'], label='Train')\n",
        "plt.plot(dataset_teste['faturamento_sku'], label='Test')\n",
        "plt.plot(dataset_teste['SARIMA'], label='SARIMA')\n",
        "plt.legend(loc='best')\n",
        "plt.show()"
      ],
      "execution_count": 47,
      "outputs": [
        {
          "output_type": "stream",
          "text": [
            "/usr/local/lib/python3.7/dist-packages/statsmodels/tsa/base/tsa_model.py:162: ValueWarning: No frequency information was provided, so inferred frequency D will be used.\n",
            "  % freq, ValueWarning)\n",
            "/usr/local/lib/python3.7/dist-packages/statsmodels/tsa/base/tsa_model.py:162: ValueWarning: No frequency information was provided, so inferred frequency D will be used.\n",
            "  % freq, ValueWarning)\n"
          ],
          "name": "stderr"
        },
        {
          "output_type": "display_data",
          "data": {
            "image/png": "[encoded data removed]",
            "text/plain": [
              "<Figure size 1152x576 with 1 Axes>"
            ]
          },
          "metadata": {
            "tags": [],
            "needs_background": "light"
          }
        }
      ]
    },
    {
      "cell_type": "code",
      "metadata": {
        "colab": {
          "base_uri": "https://localhost:8080/"
        },
        "id": "IUK1Ww5R6T0T",
        "outputId": "68d33ec0-0f98-4a76-8707-cc195bd35dfc"
      },
      "source": [
        "print(\"MSE: {}\" .format(mean_squared_error(dataset_teste.reset_index()[\"faturamento_sku\"], dataset_teste.reset_index()[\"SARIMA\"])))\n",
        "print(\"RMSE: {}\" .format(np.sqrt(mean_squared_error(dataset_teste.reset_index()[\"faturamento_sku\"], dataset_teste.reset_index()[\"SARIMA\"]))))\n",
        "print(\"MAPE: {}\" .format(mean_absolute_percentage_error(dataset_teste.reset_index()[\"faturamento_sku\"], dataset_teste.reset_index()[\"SARIMA\"])))\n",
        "print(\"Weighted MAPE: {}\" .format(weighted_mean_absolute_percentage_error(dataset_teste.reset_index()[\"faturamento_sku\"], dataset_teste.reset_index()[\"SARIMA\"])))\n"
      ],
      "execution_count": 48,
      "outputs": [
        {
          "output_type": "stream",
          "text": [
            "MSE: 53456506630777.555\n",
            "RMSE: 7311395.669143994\n",
            "MAPE: 47.96107639924372\n",
            "Weighted MAPE: 50.34122923182795\n"
          ],
          "name": "stdout"
        }
      ]
    },
    {
      "cell_type": "markdown",
      "metadata": {
        "id": "EVNicIgmnGMH"
      },
      "source": [
        "Dentre os modelos testados, o modelo de ExponentialSmoothing apresentou os melhores resultados. \n",
        "As métricas obtidas foram de:\n",
        "\n",
        "Nos dados de dezembro/2019:\n",
        "\n",
        "    MSE: 55348744276067.195\n",
        "    RMSE: 7439673.66\n",
        "    MAPE: 37.14 %\n",
        "    Weighted MAPE: 34.43 %\n",
        "\n",
        "Nos dados de janeiro/2020:\n",
        "\n",
        "    MSE: 14696039304134.83\n",
        "    RMSE: 3833541.35\n",
        "    MAPE: 26.10 %\n",
        "    Weighted MAPE: 23.59 %"
      ]
    },
    {
      "cell_type": "markdown",
      "metadata": {
        "id": "w4_31Ueuw_To"
      },
      "source": [
        "### Parte 3 - Predição de Série Temporal Multivariada\n",
        "\n",
        "1. Vários modelos de predição de Série Temporal Multivariada são possíveis. Escolha um modelo que você acredita ser adequado ao problema, considerando a granularidade diária de vendas. Fique à vontade para realizar feature engineering se julgar necessário.\n",
        "2. Avalie o modelo realizando um backtest no dataset de treino para os dias do mês de Dezembro de 2019 e informe as medidas de erro de MSE, RMSE, MAPE e Weighted MAPE.\n",
        "3. Realize as predições para os dias de Janeiro de 2020 e calcule as mesmas medidas de erro.\n"
      ]
    },
    {
      "cell_type": "code",
      "metadata": {
        "colab": {
          "base_uri": "https://localhost:8080/",
          "height": 291
        },
        "id": "wnnDsCBHyEpx",
        "outputId": "8d5d7913-705a-486b-d728-b6fe7f148bf4"
      },
      "source": [
        "dataset_novo.head()"
      ],
      "execution_count": 49,
      "outputs": [
        {
          "output_type": "execute_result",
          "data": {
            "text/html": [
              "<div>\n",
              "<style scoped>\n",
              "    .dataframe tbody tr th:only-of-type {\n",
              "        vertical-align: middle;\n",
              "    }\n",
              "\n",
              "    .dataframe tbody tr th {\n",
              "        vertical-align: top;\n",
              "    }\n",
              "\n",
              "    .dataframe thead th {\n",
              "        text-align: right;\n",
              "    }\n",
              "</style>\n",
              "<table border=\"1\" class=\"dataframe\">\n",
              "  <thead>\n",
              "    <tr style=\"text-align: right;\">\n",
              "      <th></th>\n",
              "      <th>sku</th>\n",
              "      <th>creationDate</th>\n",
              "      <th>productSegment</th>\n",
              "      <th>productCategory</th>\n",
              "      <th>productCollection</th>\n",
              "      <th>productSeasonId</th>\n",
              "      <th>productOccasionId</th>\n",
              "      <th>productCareId</th>\n",
              "      <th>productMacroCategory</th>\n",
              "      <th>skuLength</th>\n",
              "      <th>skuWidth</th>\n",
              "      <th>skuHeight</th>\n",
              "      <th>skuIsBundle</th>\n",
              "      <th>minPurchaseValueFrom</th>\n",
              "      <th>maxPurchaseValueFrom</th>\n",
              "      <th>avgPurchaseValueFrom</th>\n",
              "      <th>stddevPurchaseValueFrom</th>\n",
              "      <th>minPurchaseValueTo</th>\n",
              "      <th>maxPurchaseValueTo</th>\n",
              "      <th>avgPurchaseValueTo</th>\n",
              "      <th>stddevPurchaseValueTo</th>\n",
              "      <th>amount</th>\n",
              "      <th>avgPurchaseValueFrom_persku</th>\n",
              "      <th>avgPurchaseValueTo_persku</th>\n",
              "      <th>new_valor_purchase_row</th>\n",
              "      <th>faturamento_sku</th>\n",
              "    </tr>\n",
              "  </thead>\n",
              "  <tbody>\n",
              "    <tr>\n",
              "      <th>8</th>\n",
              "      <td>b'M\\xfde\\xd3&amp;\\x13&amp;[\\xe1\\xa5\\xf4\\xcbX\\x8b8A\\x9c...</td>\n",
              "      <td>2018-04-10</td>\n",
              "      <td>b'\\x06\\xa4.A5\\xbar\\xb9\\x06\\xa7\\x0e\\xa493\\xd7t\\...</td>\n",
              "      <td>b'\\xadA\\xf5,\\xaaJ\\xeb\\x10:\\x87:\\xa9\\xe7j-#e\\x1...</td>\n",
              "      <td>b'\\x1c\\x05\\xb6\\x17\\x11\\xf4\\x8dS\\xe5\\xf7\\xec\\xf...</td>\n",
              "      <td>NaN</td>\n",
              "      <td>b'\\xc7\\x8cX\\xe5O\\xa5;\\xb6\\x10c\\x1d%\\x80\\xb6\\x8...</td>\n",
              "      <td>NaN</td>\n",
              "      <td>b'\\xff\\x9e\\xbbe\\xf4\\x00\\x8b\\xbd\\x98_G\\x06\\xf0\\...</td>\n",
              "      <td>29.0</td>\n",
              "      <td>7.5</td>\n",
              "      <td>37.0</td>\n",
              "      <td>False</td>\n",
              "      <td>NaN</td>\n",
              "      <td>NaN</td>\n",
              "      <td>NaN</td>\n",
              "      <td>NaN</td>\n",
              "      <td>NaN</td>\n",
              "      <td>NaN</td>\n",
              "      <td>NaN</td>\n",
              "      <td>NaN</td>\n",
              "      <td>1</td>\n",
              "      <td>NaN</td>\n",
              "      <td>NaN</td>\n",
              "      <td>441478.7959</td>\n",
              "      <td>441478.7959</td>\n",
              "    </tr>\n",
              "    <tr>\n",
              "      <th>15</th>\n",
              "      <td>b'M\\xfde\\xd3&amp;\\x13&amp;[\\xe1\\xa5\\xf4\\xcbX\\x8b8A\\x9c...</td>\n",
              "      <td>2018-06-19</td>\n",
              "      <td>b'\\x06\\xa4.A5\\xbar\\xb9\\x06\\xa7\\x0e\\xa493\\xd7t\\...</td>\n",
              "      <td>b'\\xadA\\xf5,\\xaaJ\\xeb\\x10:\\x87:\\xa9\\xe7j-#e\\x1...</td>\n",
              "      <td>b'\\x1c\\x05\\xb6\\x17\\x11\\xf4\\x8dS\\xe5\\xf7\\xec\\xf...</td>\n",
              "      <td>NaN</td>\n",
              "      <td>b'\\xc7\\x8cX\\xe5O\\xa5;\\xb6\\x10c\\x1d%\\x80\\xb6\\x8...</td>\n",
              "      <td>NaN</td>\n",
              "      <td>b'\\xff\\x9e\\xbbe\\xf4\\x00\\x8b\\xbd\\x98_G\\x06\\xf0\\...</td>\n",
              "      <td>29.0</td>\n",
              "      <td>7.5</td>\n",
              "      <td>37.0</td>\n",
              "      <td>False</td>\n",
              "      <td>1049580.0</td>\n",
              "      <td>1049580.0</td>\n",
              "      <td>1049580.0</td>\n",
              "      <td>0.0</td>\n",
              "      <td>839580.0</td>\n",
              "      <td>839580.0</td>\n",
              "      <td>839580.0</td>\n",
              "      <td>0.0</td>\n",
              "      <td>5</td>\n",
              "      <td>209916.0</td>\n",
              "      <td>167916.0</td>\n",
              "      <td>167916.0000</td>\n",
              "      <td>839580.0000</td>\n",
              "    </tr>\n",
              "    <tr>\n",
              "      <th>16</th>\n",
              "      <td>b'M\\xfde\\xd3&amp;\\x13&amp;[\\xe1\\xa5\\xf4\\xcbX\\x8b8A\\x9c...</td>\n",
              "      <td>2018-06-25</td>\n",
              "      <td>b'\\x06\\xa4.A5\\xbar\\xb9\\x06\\xa7\\x0e\\xa493\\xd7t\\...</td>\n",
              "      <td>b'\\xadA\\xf5,\\xaaJ\\xeb\\x10:\\x87:\\xa9\\xe7j-#e\\x1...</td>\n",
              "      <td>b'\\x1c\\x05\\xb6\\x17\\x11\\xf4\\x8dS\\xe5\\xf7\\xec\\xf...</td>\n",
              "      <td>NaN</td>\n",
              "      <td>b'\\xc7\\x8cX\\xe5O\\xa5;\\xb6\\x10c\\x1d%\\x80\\xb6\\x8...</td>\n",
              "      <td>NaN</td>\n",
              "      <td>b'\\xff\\x9e\\xbbe\\xf4\\x00\\x8b\\xbd\\x98_G\\x06\\xf0\\...</td>\n",
              "      <td>29.0</td>\n",
              "      <td>7.5</td>\n",
              "      <td>37.0</td>\n",
              "      <td>False</td>\n",
              "      <td>NaN</td>\n",
              "      <td>NaN</td>\n",
              "      <td>NaN</td>\n",
              "      <td>NaN</td>\n",
              "      <td>NaN</td>\n",
              "      <td>NaN</td>\n",
              "      <td>NaN</td>\n",
              "      <td>NaN</td>\n",
              "      <td>1</td>\n",
              "      <td>NaN</td>\n",
              "      <td>NaN</td>\n",
              "      <td>441478.7959</td>\n",
              "      <td>441478.7959</td>\n",
              "    </tr>\n",
              "    <tr>\n",
              "      <th>20</th>\n",
              "      <td>b'M\\xfde\\xd3&amp;\\x13&amp;[\\xe1\\xa5\\xf4\\xcbX\\x8b8A\\x9c...</td>\n",
              "      <td>2018-02-02</td>\n",
              "      <td>b'\\x06\\xa4.A5\\xbar\\xb9\\x06\\xa7\\x0e\\xa493\\xd7t\\...</td>\n",
              "      <td>b'\\xadA\\xf5,\\xaaJ\\xeb\\x10:\\x87:\\xa9\\xe7j-#e\\x1...</td>\n",
              "      <td>b'\\x1c\\x05\\xb6\\x17\\x11\\xf4\\x8dS\\xe5\\xf7\\xec\\xf...</td>\n",
              "      <td>NaN</td>\n",
              "      <td>b'\\xc7\\x8cX\\xe5O\\xa5;\\xb6\\x10c\\x1d%\\x80\\xb6\\x8...</td>\n",
              "      <td>NaN</td>\n",
              "      <td>b'\\xff\\x9e\\xbbe\\xf4\\x00\\x8b\\xbd\\x98_G\\x06\\xf0\\...</td>\n",
              "      <td>29.0</td>\n",
              "      <td>7.5</td>\n",
              "      <td>37.0</td>\n",
              "      <td>False</td>\n",
              "      <td>1049580.0</td>\n",
              "      <td>1049580.0</td>\n",
              "      <td>1049580.0</td>\n",
              "      <td>NaN</td>\n",
              "      <td>713580.0</td>\n",
              "      <td>713580.0</td>\n",
              "      <td>713580.0</td>\n",
              "      <td>NaN</td>\n",
              "      <td>2</td>\n",
              "      <td>524790.0</td>\n",
              "      <td>356790.0</td>\n",
              "      <td>356790.0000</td>\n",
              "      <td>713580.0000</td>\n",
              "    </tr>\n",
              "    <tr>\n",
              "      <th>23</th>\n",
              "      <td>b'M\\xfde\\xd3&amp;\\x13&amp;[\\xe1\\xa5\\xf4\\xcbX\\x8b8A\\x9c...</td>\n",
              "      <td>2018-04-15</td>\n",
              "      <td>b'\\x06\\xa4.A5\\xbar\\xb9\\x06\\xa7\\x0e\\xa493\\xd7t\\...</td>\n",
              "      <td>b'\\xadA\\xf5,\\xaaJ\\xeb\\x10:\\x87:\\xa9\\xe7j-#e\\x1...</td>\n",
              "      <td>b'\\x1c\\x05\\xb6\\x17\\x11\\xf4\\x8dS\\xe5\\xf7\\xec\\xf...</td>\n",
              "      <td>NaN</td>\n",
              "      <td>b'\\xc7\\x8cX\\xe5O\\xa5;\\xb6\\x10c\\x1d%\\x80\\xb6\\x8...</td>\n",
              "      <td>NaN</td>\n",
              "      <td>b'\\xff\\x9e\\xbbe\\xf4\\x00\\x8b\\xbd\\x98_G\\x06\\xf0\\...</td>\n",
              "      <td>29.0</td>\n",
              "      <td>7.5</td>\n",
              "      <td>37.0</td>\n",
              "      <td>False</td>\n",
              "      <td>NaN</td>\n",
              "      <td>NaN</td>\n",
              "      <td>NaN</td>\n",
              "      <td>NaN</td>\n",
              "      <td>NaN</td>\n",
              "      <td>NaN</td>\n",
              "      <td>NaN</td>\n",
              "      <td>NaN</td>\n",
              "      <td>1</td>\n",
              "      <td>NaN</td>\n",
              "      <td>NaN</td>\n",
              "      <td>441478.7959</td>\n",
              "      <td>441478.7959</td>\n",
              "    </tr>\n",
              "  </tbody>\n",
              "</table>\n",
              "</div>"
            ],
            "text/plain": [
              "                                                  sku  ... faturamento_sku\n",
              "8   b'M\\xfde\\xd3&\\x13&[\\xe1\\xa5\\xf4\\xcbX\\x8b8A\\x9c...  ...     441478.7959\n",
              "15  b'M\\xfde\\xd3&\\x13&[\\xe1\\xa5\\xf4\\xcbX\\x8b8A\\x9c...  ...     839580.0000\n",
              "16  b'M\\xfde\\xd3&\\x13&[\\xe1\\xa5\\xf4\\xcbX\\x8b8A\\x9c...  ...     441478.7959\n",
              "20  b'M\\xfde\\xd3&\\x13&[\\xe1\\xa5\\xf4\\xcbX\\x8b8A\\x9c...  ...     713580.0000\n",
              "23  b'M\\xfde\\xd3&\\x13&[\\xe1\\xa5\\xf4\\xcbX\\x8b8A\\x9c...  ...     441478.7959\n",
              "\n",
              "[5 rows x 26 columns]"
            ]
          },
          "metadata": {
            "tags": []
          },
          "execution_count": 49
        }
      ]
    },
    {
      "cell_type": "code",
      "metadata": {
        "colab": {
          "base_uri": "https://localhost:8080/",
          "height": 189
        },
        "id": "zF2FwrXj7xTj",
        "outputId": "61bd5204-b719-4ad7-e971-23f58657a526"
      },
      "source": [
        "## Nesse modelo de predição de série temporal univariada, utilizarei dados de data, faturamento e média dos dados dos SKU`s\n",
        "## Criação do df contendo essas informações\n",
        "multivariada = dataset_novo.groupby(\"creationDate\").agg({\"faturamento_sku\":\"sum\", 'skuLength':'mean','skuWidth':'mean','skuHeight':'mean'}).reset_index()\n",
        "multivariada.head()"
      ],
      "execution_count": 50,
      "outputs": [
        {
          "output_type": "execute_result",
          "data": {
            "text/html": [
              "<div>\n",
              "<style scoped>\n",
              "    .dataframe tbody tr th:only-of-type {\n",
              "        vertical-align: middle;\n",
              "    }\n",
              "\n",
              "    .dataframe tbody tr th {\n",
              "        vertical-align: top;\n",
              "    }\n",
              "\n",
              "    .dataframe thead th {\n",
              "        text-align: right;\n",
              "    }\n",
              "</style>\n",
              "<table border=\"1\" class=\"dataframe\">\n",
              "  <thead>\n",
              "    <tr style=\"text-align: right;\">\n",
              "      <th></th>\n",
              "      <th>creationDate</th>\n",
              "      <th>faturamento_sku</th>\n",
              "      <th>skuLength</th>\n",
              "      <th>skuWidth</th>\n",
              "      <th>skuHeight</th>\n",
              "    </tr>\n",
              "  </thead>\n",
              "  <tbody>\n",
              "    <tr>\n",
              "      <th>0</th>\n",
              "      <td>2018-01-01</td>\n",
              "      <td>4.834190e+06</td>\n",
              "      <td>33.142857</td>\n",
              "      <td>6.642857</td>\n",
              "      <td>31.357143</td>\n",
              "    </tr>\n",
              "    <tr>\n",
              "      <th>1</th>\n",
              "      <td>2018-01-02</td>\n",
              "      <td>2.894220e+06</td>\n",
              "      <td>36.500000</td>\n",
              "      <td>11.125000</td>\n",
              "      <td>36.625000</td>\n",
              "    </tr>\n",
              "    <tr>\n",
              "      <th>2</th>\n",
              "      <td>2018-01-03</td>\n",
              "      <td>3.424452e+06</td>\n",
              "      <td>33.400000</td>\n",
              "      <td>6.900000</td>\n",
              "      <td>31.200000</td>\n",
              "    </tr>\n",
              "    <tr>\n",
              "      <th>3</th>\n",
              "      <td>2018-01-04</td>\n",
              "      <td>4.360060e+06</td>\n",
              "      <td>31.166667</td>\n",
              "      <td>7.083333</td>\n",
              "      <td>33.083333</td>\n",
              "    </tr>\n",
              "    <tr>\n",
              "      <th>4</th>\n",
              "      <td>2018-01-05</td>\n",
              "      <td>4.577580e+06</td>\n",
              "      <td>31.166667</td>\n",
              "      <td>7.500000</td>\n",
              "      <td>33.083333</td>\n",
              "    </tr>\n",
              "  </tbody>\n",
              "</table>\n",
              "</div>"
            ],
            "text/plain": [
              "  creationDate  faturamento_sku  skuLength   skuWidth  skuHeight\n",
              "0   2018-01-01     4.834190e+06  33.142857   6.642857  31.357143\n",
              "1   2018-01-02     2.894220e+06  36.500000  11.125000  36.625000\n",
              "2   2018-01-03     3.424452e+06  33.400000   6.900000  31.200000\n",
              "3   2018-01-04     4.360060e+06  31.166667   7.083333  33.083333\n",
              "4   2018-01-05     4.577580e+06  31.166667   7.500000  33.083333"
            ]
          },
          "metadata": {
            "tags": []
          },
          "execution_count": 50
        }
      ]
    },
    {
      "cell_type": "code",
      "metadata": {
        "colab": {
          "base_uri": "https://localhost:8080/",
          "height": 189
        },
        "id": "Mk4sajo5ybKb",
        "outputId": "ec6243cc-33f8-461e-d3cc-048280f414a9"
      },
      "source": [
        "multivariada[\"creationDate\"] = multivariada.apply(lambda row: datetime.strptime(row[\"creationDate\"],'%Y-%m-%d').date(), axis = 1)\n",
        "multivariada.head()"
      ],
      "execution_count": 51,
      "outputs": [
        {
          "output_type": "execute_result",
          "data": {
            "text/html": [
              "<div>\n",
              "<style scoped>\n",
              "    .dataframe tbody tr th:only-of-type {\n",
              "        vertical-align: middle;\n",
              "    }\n",
              "\n",
              "    .dataframe tbody tr th {\n",
              "        vertical-align: top;\n",
              "    }\n",
              "\n",
              "    .dataframe thead th {\n",
              "        text-align: right;\n",
              "    }\n",
              "</style>\n",
              "<table border=\"1\" class=\"dataframe\">\n",
              "  <thead>\n",
              "    <tr style=\"text-align: right;\">\n",
              "      <th></th>\n",
              "      <th>creationDate</th>\n",
              "      <th>faturamento_sku</th>\n",
              "      <th>skuLength</th>\n",
              "      <th>skuWidth</th>\n",
              "      <th>skuHeight</th>\n",
              "    </tr>\n",
              "  </thead>\n",
              "  <tbody>\n",
              "    <tr>\n",
              "      <th>0</th>\n",
              "      <td>2018-01-01</td>\n",
              "      <td>4.834190e+06</td>\n",
              "      <td>33.142857</td>\n",
              "      <td>6.642857</td>\n",
              "      <td>31.357143</td>\n",
              "    </tr>\n",
              "    <tr>\n",
              "      <th>1</th>\n",
              "      <td>2018-01-02</td>\n",
              "      <td>2.894220e+06</td>\n",
              "      <td>36.500000</td>\n",
              "      <td>11.125000</td>\n",
              "      <td>36.625000</td>\n",
              "    </tr>\n",
              "    <tr>\n",
              "      <th>2</th>\n",
              "      <td>2018-01-03</td>\n",
              "      <td>3.424452e+06</td>\n",
              "      <td>33.400000</td>\n",
              "      <td>6.900000</td>\n",
              "      <td>31.200000</td>\n",
              "    </tr>\n",
              "    <tr>\n",
              "      <th>3</th>\n",
              "      <td>2018-01-04</td>\n",
              "      <td>4.360060e+06</td>\n",
              "      <td>31.166667</td>\n",
              "      <td>7.083333</td>\n",
              "      <td>33.083333</td>\n",
              "    </tr>\n",
              "    <tr>\n",
              "      <th>4</th>\n",
              "      <td>2018-01-05</td>\n",
              "      <td>4.577580e+06</td>\n",
              "      <td>31.166667</td>\n",
              "      <td>7.500000</td>\n",
              "      <td>33.083333</td>\n",
              "    </tr>\n",
              "  </tbody>\n",
              "</table>\n",
              "</div>"
            ],
            "text/plain": [
              "  creationDate  faturamento_sku  skuLength   skuWidth  skuHeight\n",
              "0   2018-01-01     4.834190e+06  33.142857   6.642857  31.357143\n",
              "1   2018-01-02     2.894220e+06  36.500000  11.125000  36.625000\n",
              "2   2018-01-03     3.424452e+06  33.400000   6.900000  31.200000\n",
              "3   2018-01-04     4.360060e+06  31.166667   7.083333  33.083333\n",
              "4   2018-01-05     4.577580e+06  31.166667   7.500000  33.083333"
            ]
          },
          "metadata": {
            "tags": []
          },
          "execution_count": 51
        }
      ]
    },
    {
      "cell_type": "code",
      "metadata": {
        "id": "onRD2_I5zqlC"
      },
      "source": [
        "startdate = pd.to_datetime(\"2018-01-01\").date()\n",
        "enddate = pd.to_datetime(\"2020-01-01\").date()\n",
        "backdate = pd.to_datetime(\"2019-12-01\").date()"
      ],
      "execution_count": 52,
      "outputs": []
    },
    {
      "cell_type": "code",
      "metadata": {
        "colab": {
          "base_uri": "https://localhost:8080/"
        },
        "id": "7Hv18hq_zvsb",
        "outputId": "08a3e80c-98a2-47ff-bc4d-81d8a19518db"
      },
      "source": [
        "## Separação do dataset resultante em treino e teste:\n",
        "print(multivariada.shape[0])\n",
        "dataset_treino = multivariada[(multivariada[\"creationDate\"] >= startdate)&(multivariada[\"creationDate\"] < enddate)]\n",
        "print(dataset_treino.shape[0])\n",
        "dataset_teste = multivariada[(multivariada[\"creationDate\"] >= enddate)]\n",
        "print(dataset_teste.shape[0])"
      ],
      "execution_count": 53,
      "outputs": [
        {
          "output_type": "stream",
          "text": [
            "761\n",
            "730\n",
            "31\n"
          ],
          "name": "stdout"
        }
      ]
    },
    {
      "cell_type": "code",
      "metadata": {
        "id": "BBOcxN8w143V"
      },
      "source": [
        "dataset_treino['creationDate'] = pd.to_datetime(dataset_treino[\"creationDate\"] , format = '%Y-%m-%d')\n",
        "data_treino = dataset_treino.drop(['creationDate'], axis=1)\n",
        "data_treino.index = dataset_treino[\"creationDate\"]"
      ],
      "execution_count": 54,
      "outputs": []
    },
    {
      "cell_type": "code",
      "metadata": {
        "id": "fseRv3Fu3A4J"
      },
      "source": [
        "dataset_teste['creationDate'] = pd.to_datetime(dataset_teste[\"creationDate\"] , format = '%Y-%m-%d')\n",
        "data_teste = dataset_teste.drop(['creationDate'], axis=1)\n",
        "data_teste.index = dataset_teste[\"creationDate\"]"
      ],
      "execution_count": 55,
      "outputs": []
    },
    {
      "cell_type": "code",
      "metadata": {
        "id": "hWkVK2yy0eFz"
      },
      "source": [
        "dataset_backtest = multivariada[(multivariada[\"creationDate\"] >= backdate)&(multivariada[\"creationDate\"] < enddate)]"
      ],
      "execution_count": 56,
      "outputs": []
    },
    {
      "cell_type": "code",
      "metadata": {
        "id": "PuP1GzO63Iyz"
      },
      "source": [
        "dataset_backtest['creationDate'] = pd.to_datetime(dataset_backtest[\"creationDate\"] , format = '%Y-%m-%d')\n",
        "data_backteste = dataset_backtest.drop(['creationDate'], axis=1)\n",
        "data_backteste.index = dataset_backtest[\"creationDate\"]"
      ],
      "execution_count": 57,
      "outputs": []
    },
    {
      "cell_type": "code",
      "metadata": {
        "id": "YvLbmQfQ0kxX"
      },
      "source": [
        "from statsmodels.tsa.vector_ar.var_model import VAR"
      ],
      "execution_count": 58,
      "outputs": []
    },
    {
      "cell_type": "code",
      "metadata": {
        "colab": {
          "base_uri": "https://localhost:8080/"
        },
        "id": "aw_avC7J1kBf",
        "outputId": "46baa23d-5ab0-487e-ffc6-b962654dcc26"
      },
      "source": [
        "model = VAR(endog=data_treino)\n",
        "model_fit = model.fit()"
      ],
      "execution_count": 59,
      "outputs": [
        {
          "output_type": "stream",
          "text": [
            "/usr/local/lib/python3.7/dist-packages/statsmodels/tsa/base/tsa_model.py:162: ValueWarning: No frequency information was provided, so inferred frequency D will be used.\n",
            "  % freq, ValueWarning)\n"
          ],
          "name": "stderr"
        }
      ]
    },
    {
      "cell_type": "code",
      "metadata": {
        "id": "YkiLngTB1mH0"
      },
      "source": [
        "prediction = model_fit.forecast(model_fit.y, steps=len(data_teste))"
      ],
      "execution_count": 60,
      "outputs": []
    },
    {
      "cell_type": "code",
      "metadata": {
        "id": "UfKQt5zg4qkx"
      },
      "source": [
        "cols = data_treino.columns"
      ],
      "execution_count": 61,
      "outputs": []
    },
    {
      "cell_type": "code",
      "metadata": {
        "id": "HaqP9zmn393Y"
      },
      "source": [
        "pred = pd.DataFrame(index=range(0,len(prediction)),columns=cols)\n",
        "for j in range(0,4):\n",
        "    for i in range(0, len(prediction)):\n",
        "       pred.iloc[i][j] = prediction[i][j]"
      ],
      "execution_count": 62,
      "outputs": []
    },
    {
      "cell_type": "code",
      "metadata": {
        "colab": {
          "base_uri": "https://localhost:8080/",
          "height": 292
        },
        "id": "0TIL7H-cQL-L",
        "outputId": "8d4d0b69-6f09-444d-c7f3-949326c9ec7e"
      },
      "source": [
        "plt.plot(data_treino)\n",
        "plt.plot(data_backteste,'g')\n",
        "plt.plot(data_backteste.index,pred[\"faturamento_sku\"],'r.')"
      ],
      "execution_count": 63,
      "outputs": [
        {
          "output_type": "execute_result",
          "data": {
            "text/plain": [
              "[<matplotlib.lines.Line2D at 0x7ff91bf91dd0>]"
            ]
          },
          "metadata": {
            "tags": []
          },
          "execution_count": 63
        },
        {
          "output_type": "display_data",
          "data": {
            "image/png": "[encoded data removed]",
            "text/plain": [
              "<Figure size 432x288 with 1 Axes>"
            ]
          },
          "metadata": {
            "tags": [],
            "needs_background": "light"
          }
        }
      ]
    },
    {
      "cell_type": "code",
      "metadata": {
        "colab": {
          "base_uri": "https://localhost:8080/"
        },
        "id": "ek1OvNCFRi6e",
        "outputId": "238e36e4-83c4-46f8-8c20-c0798bca0df4"
      },
      "source": [
        "print(\"MSE: {}\" .format(mean_squared_error(data_backteste.reset_index()[\"faturamento_sku\"], pred[\"faturamento_sku\"])))\n",
        "print(\"RMSE: {}\" .format(np.sqrt(mean_squared_error(data_backteste.reset_index()[\"faturamento_sku\"], pred[\"faturamento_sku\"]))))\n",
        "print(\"MAPE: {}\" .format(mean_absolute_percentage_error(data_backteste.reset_index()[\"faturamento_sku\"], pred[\"faturamento_sku\"])))\n",
        "print(\"Weighted MAPE: {}\" .format(weighted_mean_absolute_percentage_error(data_backteste.reset_index()[\"faturamento_sku\"], pred[\"faturamento_sku\"])))\n"
      ],
      "execution_count": 64,
      "outputs": [
        {
          "output_type": "stream",
          "text": [
            "MSE: 48393389707006.41\n",
            "RMSE: 6956535.754742184\n",
            "MAPE: 46.31558915842139\n",
            "Weighted MAPE: 34.97568319944644\n"
          ],
          "name": "stdout"
        }
      ]
    },
    {
      "cell_type": "code",
      "metadata": {
        "colab": {
          "base_uri": "https://localhost:8080/",
          "height": 292
        },
        "id": "75RAQx9cRd1a",
        "outputId": "0608fdad-7419-4dd5-df16-a2ff8f35d4ab"
      },
      "source": [
        "plt.plot(data_treino)\n",
        "plt.plot(data_teste,'g')\n",
        "plt.plot(data_teste.index,pred[\"faturamento_sku\"],'r.')"
      ],
      "execution_count": 65,
      "outputs": [
        {
          "output_type": "execute_result",
          "data": {
            "text/plain": [
              "[<matplotlib.lines.Line2D at 0x7ff91c01ce50>]"
            ]
          },
          "metadata": {
            "tags": []
          },
          "execution_count": 65
        },
        {
          "output_type": "display_data",
          "data": {
            "image/png": "[encoded data removed]",
            "text/plain": [
              "<Figure size 432x288 with 1 Axes>"
            ]
          },
          "metadata": {
            "tags": [],
            "needs_background": "light"
          }
        }
      ]
    },
    {
      "cell_type": "code",
      "metadata": {
        "colab": {
          "base_uri": "https://localhost:8080/"
        },
        "id": "hefE98pz4k-3",
        "outputId": "b98c077e-e85a-4caa-f9aa-f5afd4953c5e"
      },
      "source": [
        "print(\"MSE: {}\" .format(mean_squared_error(data_teste.reset_index()[\"faturamento_sku\"], pred[\"faturamento_sku\"])))\n",
        "print(\"RMSE: {}\" .format(np.sqrt(mean_squared_error(data_teste.reset_index()[\"faturamento_sku\"], pred[\"faturamento_sku\"]))))\n",
        "print(\"MAPE: {}\" .format(mean_absolute_percentage_error(data_teste.reset_index()[\"faturamento_sku\"], pred[\"faturamento_sku\"])))\n",
        "print(\"Weighted MAPE: {}\" .format(weighted_mean_absolute_percentage_error(data_teste.reset_index()[\"faturamento_sku\"], pred[\"faturamento_sku\"])))\n"
      ],
      "execution_count": 66,
      "outputs": [
        {
          "output_type": "stream",
          "text": [
            "MSE: 25047005715742.145\n",
            "RMSE: 5004698.3641116815\n",
            "MAPE: 42.48148639186914\n",
            "Weighted MAPE: 34.20989308389993\n"
          ],
          "name": "stdout"
        }
      ]
    },
    {
      "cell_type": "markdown",
      "metadata": {
        "id": "O07M9oSiUEB9"
      },
      "source": [
        "O modelo para Predição de Série Temporal Multivariada foi o VAR (Vector Auto Regression).  As métricas obtidas foram de:\n",
        "\n",
        "Nos dados de dezembro/2019:\n",
        "\n",
        "    MSE: 48393389707006.41\n",
        "    RMSE: 6956535.75\n",
        "    MAPE: 46.32 %\n",
        "    Weighted MAPE: 34.98 %\n",
        "Nos dados de janeiro/2020:\n",
        "\n",
        "    MSE: 25047005715742.145\n",
        "    RMSE: 5004698.36\n",
        "    MAPE: 42.48 %\n",
        "    Weighted MAPE: 34.21 %"
      ]
    },
    {
      "cell_type": "code",
      "metadata": {
        "id": "pBsCYI5xG3xF"
      },
      "source": [
        ""
      ],
      "execution_count": 66,
      "outputs": []
    }
  ]
}